{
  "nbformat": 4,
  "nbformat_minor": 0,
  "metadata": {
    "colab": {
      "name": "Kalman Filter Project.ipynb",
      "provenance": []
    },
    "kernelspec": {
      "name": "python3",
      "display_name": "Python 3"
    },
    "language_info": {
      "name": "python"
    }
  },
  "cells": [
    {
      "cell_type": "code",
      "execution_count": null,
      "metadata": {
        "id": "Mdf2Ob4QVIBn"
      },
      "outputs": [],
      "source": [
        "import numpy as np\n",
        "import matplotlib.pyplot as plt\n",
        "import pandas as pd\n",
        "import math\n",
        "from scipy import stats, special\n",
        "import seaborn as sns \n",
        "sns.set_style(\"whitegrid\")\n",
        "from numpy.linalg import inv\n",
        "# from pykalman import KalmanFilter"
      ]
    },
    {
      "cell_type": "markdown",
      "source": [
        "# Data Preparation"
      ],
      "metadata": {
        "id": "DkcUbykhlKp9"
      }
    },
    {
      "cell_type": "code",
      "source": [
        "# create dataframes from CSV's\n",
        "cases = pd.read_csv('/content/drive/MyDrive/Colab Notebooks/Kalman Filter Project/Cumulative_Cases.csv')\n",
        "vac = pd.read_csv('/content/drive/MyDrive/Colab Notebooks/Kalman Filter Project/Cumulative__Vaccinations.csv')\n",
        "death = pd.read_csv('/content/drive/MyDrive/Colab Notebooks/Kalman Filter Project/Cumulative__Deaths.csv')\n",
        "hosp = pd.read_csv('/content/drive/MyDrive/Colab Notebooks/Kalman Filter Project/Cumulative__Hospitalizations.csv')"
      ],
      "metadata": {
        "id": "rs9hhYzkVcNd"
      },
      "execution_count": null,
      "outputs": []
    },
    {
      "cell_type": "code",
      "source": [
        "# combine into one dataframe\n",
        "data = hosp.join(cases.set_index('Date'), on='Date').join(vac.set_index('Date'), on='Date').join(death.set_index('Date'), on='Date')"
      ],
      "metadata": {
        "id": "kN_b8zx_XRKO"
      },
      "execution_count": null,
      "outputs": []
    },
    {
      "cell_type": "code",
      "source": [
        "data.head(15)"
      ],
      "metadata": {
        "colab": {
          "base_uri": "https://localhost:8080/",
          "height": 520
        },
        "id": "d17NBumHgxaB",
        "outputId": "c76f40cf-56c5-4d5e-877e-e7ef7d75cdeb"
      },
      "execution_count": null,
      "outputs": [
        {
          "output_type": "execute_result",
          "data": {
            "text/html": [
              "\n",
              "  <div id=\"df-0777a121-0b05-4c4d-86bb-3c7086fc3968\">\n",
              "    <div class=\"colab-df-container\">\n",
              "      <div>\n",
              "<style scoped>\n",
              "    .dataframe tbody tr th:only-of-type {\n",
              "        vertical-align: middle;\n",
              "    }\n",
              "\n",
              "    .dataframe tbody tr th {\n",
              "        vertical-align: top;\n",
              "    }\n",
              "\n",
              "    .dataframe thead th {\n",
              "        text-align: right;\n",
              "    }\n",
              "</style>\n",
              "<table border=\"1\" class=\"dataframe\">\n",
              "  <thead>\n",
              "    <tr style=\"text-align: right;\">\n",
              "      <th></th>\n",
              "      <th>Date</th>\n",
              "      <th>Hospitalizations</th>\n",
              "      <th>New Cases Reported</th>\n",
              "      <th>Cases</th>\n",
              "      <th>Vaccines</th>\n",
              "      <th>Deaths</th>\n",
              "    </tr>\n",
              "  </thead>\n",
              "  <tbody>\n",
              "    <tr>\n",
              "      <th>0</th>\n",
              "      <td>2/25/2020</td>\n",
              "      <td>1092</td>\n",
              "      <td>0</td>\n",
              "      <td>1</td>\n",
              "      <td>NaN</td>\n",
              "      <td>2</td>\n",
              "    </tr>\n",
              "    <tr>\n",
              "      <th>1</th>\n",
              "      <td>2/26/2020</td>\n",
              "      <td>1094</td>\n",
              "      <td>0</td>\n",
              "      <td>1</td>\n",
              "      <td>NaN</td>\n",
              "      <td>4</td>\n",
              "    </tr>\n",
              "    <tr>\n",
              "      <th>2</th>\n",
              "      <td>2/27/2020</td>\n",
              "      <td>1105</td>\n",
              "      <td>0</td>\n",
              "      <td>1</td>\n",
              "      <td>NaN</td>\n",
              "      <td>4</td>\n",
              "    </tr>\n",
              "    <tr>\n",
              "      <th>3</th>\n",
              "      <td>2/28/2020</td>\n",
              "      <td>1114</td>\n",
              "      <td>0</td>\n",
              "      <td>1</td>\n",
              "      <td>NaN</td>\n",
              "      <td>6</td>\n",
              "    </tr>\n",
              "    <tr>\n",
              "      <th>4</th>\n",
              "      <td>2/29/2020</td>\n",
              "      <td>1121</td>\n",
              "      <td>0</td>\n",
              "      <td>1</td>\n",
              "      <td>NaN</td>\n",
              "      <td>7</td>\n",
              "    </tr>\n",
              "    <tr>\n",
              "      <th>5</th>\n",
              "      <td>3/1/2020</td>\n",
              "      <td>1129</td>\n",
              "      <td>0</td>\n",
              "      <td>1</td>\n",
              "      <td>NaN</td>\n",
              "      <td>10</td>\n",
              "    </tr>\n",
              "    <tr>\n",
              "      <th>6</th>\n",
              "      <td>3/2/2020</td>\n",
              "      <td>1150</td>\n",
              "      <td>13</td>\n",
              "      <td>14</td>\n",
              "      <td>NaN</td>\n",
              "      <td>13</td>\n",
              "    </tr>\n",
              "    <tr>\n",
              "      <th>7</th>\n",
              "      <td>3/3/2020</td>\n",
              "      <td>1162</td>\n",
              "      <td>16</td>\n",
              "      <td>30</td>\n",
              "      <td>NaN</td>\n",
              "      <td>16</td>\n",
              "    </tr>\n",
              "    <tr>\n",
              "      <th>8</th>\n",
              "      <td>3/4/2020</td>\n",
              "      <td>1176</td>\n",
              "      <td>15</td>\n",
              "      <td>45</td>\n",
              "      <td>NaN</td>\n",
              "      <td>18</td>\n",
              "    </tr>\n",
              "    <tr>\n",
              "      <th>9</th>\n",
              "      <td>3/5/2020</td>\n",
              "      <td>1203</td>\n",
              "      <td>21</td>\n",
              "      <td>66</td>\n",
              "      <td>NaN</td>\n",
              "      <td>23</td>\n",
              "    </tr>\n",
              "    <tr>\n",
              "      <th>10</th>\n",
              "      <td>3/6/2020</td>\n",
              "      <td>1226</td>\n",
              "      <td>18</td>\n",
              "      <td>84</td>\n",
              "      <td>NaN</td>\n",
              "      <td>27</td>\n",
              "    </tr>\n",
              "    <tr>\n",
              "      <th>11</th>\n",
              "      <td>3/7/2020</td>\n",
              "      <td>1245</td>\n",
              "      <td>29</td>\n",
              "      <td>113</td>\n",
              "      <td>NaN</td>\n",
              "      <td>28</td>\n",
              "    </tr>\n",
              "    <tr>\n",
              "      <th>12</th>\n",
              "      <td>3/8/2020</td>\n",
              "      <td>1263</td>\n",
              "      <td>41</td>\n",
              "      <td>154</td>\n",
              "      <td>NaN</td>\n",
              "      <td>33</td>\n",
              "    </tr>\n",
              "    <tr>\n",
              "      <th>13</th>\n",
              "      <td>3/9/2020</td>\n",
              "      <td>1288</td>\n",
              "      <td>90</td>\n",
              "      <td>244</td>\n",
              "      <td>NaN</td>\n",
              "      <td>37</td>\n",
              "    </tr>\n",
              "    <tr>\n",
              "      <th>14</th>\n",
              "      <td>3/10/2020</td>\n",
              "      <td>1318</td>\n",
              "      <td>69</td>\n",
              "      <td>313</td>\n",
              "      <td>NaN</td>\n",
              "      <td>40</td>\n",
              "    </tr>\n",
              "  </tbody>\n",
              "</table>\n",
              "</div>\n",
              "      <button class=\"colab-df-convert\" onclick=\"convertToInteractive('df-0777a121-0b05-4c4d-86bb-3c7086fc3968')\"\n",
              "              title=\"Convert this dataframe to an interactive table.\"\n",
              "              style=\"display:none;\">\n",
              "        \n",
              "  <svg xmlns=\"http://www.w3.org/2000/svg\" height=\"24px\"viewBox=\"0 0 24 24\"\n",
              "       width=\"24px\">\n",
              "    <path d=\"M0 0h24v24H0V0z\" fill=\"none\"/>\n",
              "    <path d=\"M18.56 5.44l.94 2.06.94-2.06 2.06-.94-2.06-.94-.94-2.06-.94 2.06-2.06.94zm-11 1L8.5 8.5l.94-2.06 2.06-.94-2.06-.94L8.5 2.5l-.94 2.06-2.06.94zm10 10l.94 2.06.94-2.06 2.06-.94-2.06-.94-.94-2.06-.94 2.06-2.06.94z\"/><path d=\"M17.41 7.96l-1.37-1.37c-.4-.4-.92-.59-1.43-.59-.52 0-1.04.2-1.43.59L10.3 9.45l-7.72 7.72c-.78.78-.78 2.05 0 2.83L4 21.41c.39.39.9.59 1.41.59.51 0 1.02-.2 1.41-.59l7.78-7.78 2.81-2.81c.8-.78.8-2.07 0-2.86zM5.41 20L4 18.59l7.72-7.72 1.47 1.35L5.41 20z\"/>\n",
              "  </svg>\n",
              "      </button>\n",
              "      \n",
              "  <style>\n",
              "    .colab-df-container {\n",
              "      display:flex;\n",
              "      flex-wrap:wrap;\n",
              "      gap: 12px;\n",
              "    }\n",
              "\n",
              "    .colab-df-convert {\n",
              "      background-color: #E8F0FE;\n",
              "      border: none;\n",
              "      border-radius: 50%;\n",
              "      cursor: pointer;\n",
              "      display: none;\n",
              "      fill: #1967D2;\n",
              "      height: 32px;\n",
              "      padding: 0 0 0 0;\n",
              "      width: 32px;\n",
              "    }\n",
              "\n",
              "    .colab-df-convert:hover {\n",
              "      background-color: #E2EBFA;\n",
              "      box-shadow: 0px 1px 2px rgba(60, 64, 67, 0.3), 0px 1px 3px 1px rgba(60, 64, 67, 0.15);\n",
              "      fill: #174EA6;\n",
              "    }\n",
              "\n",
              "    [theme=dark] .colab-df-convert {\n",
              "      background-color: #3B4455;\n",
              "      fill: #D2E3FC;\n",
              "    }\n",
              "\n",
              "    [theme=dark] .colab-df-convert:hover {\n",
              "      background-color: #434B5C;\n",
              "      box-shadow: 0px 1px 3px 1px rgba(0, 0, 0, 0.15);\n",
              "      filter: drop-shadow(0px 1px 2px rgba(0, 0, 0, 0.3));\n",
              "      fill: #FFFFFF;\n",
              "    }\n",
              "  </style>\n",
              "\n",
              "      <script>\n",
              "        const buttonEl =\n",
              "          document.querySelector('#df-0777a121-0b05-4c4d-86bb-3c7086fc3968 button.colab-df-convert');\n",
              "        buttonEl.style.display =\n",
              "          google.colab.kernel.accessAllowed ? 'block' : 'none';\n",
              "\n",
              "        async function convertToInteractive(key) {\n",
              "          const element = document.querySelector('#df-0777a121-0b05-4c4d-86bb-3c7086fc3968');\n",
              "          const dataTable =\n",
              "            await google.colab.kernel.invokeFunction('convertToInteractive',\n",
              "                                                     [key], {});\n",
              "          if (!dataTable) return;\n",
              "\n",
              "          const docLinkHtml = 'Like what you see? Visit the ' +\n",
              "            '<a target=\"_blank\" href=https://colab.research.google.com/notebooks/data_table.ipynb>data table notebook</a>'\n",
              "            + ' to learn more about interactive tables.';\n",
              "          element.innerHTML = '';\n",
              "          dataTable['output_type'] = 'display_data';\n",
              "          await google.colab.output.renderOutput(dataTable, element);\n",
              "          const docLink = document.createElement('div');\n",
              "          docLink.innerHTML = docLinkHtml;\n",
              "          element.appendChild(docLink);\n",
              "        }\n",
              "      </script>\n",
              "    </div>\n",
              "  </div>\n",
              "  "
            ],
            "text/plain": [
              "         Date  Hospitalizations  New Cases Reported  Cases  Vaccines  Deaths\n",
              "0   2/25/2020              1092                   0      1       NaN       2\n",
              "1   2/26/2020              1094                   0      1       NaN       4\n",
              "2   2/27/2020              1105                   0      1       NaN       4\n",
              "3   2/28/2020              1114                   0      1       NaN       6\n",
              "4   2/29/2020              1121                   0      1       NaN       7\n",
              "5    3/1/2020              1129                   0      1       NaN      10\n",
              "6    3/2/2020              1150                  13     14       NaN      13\n",
              "7    3/3/2020              1162                  16     30       NaN      16\n",
              "8    3/4/2020              1176                  15     45       NaN      18\n",
              "9    3/5/2020              1203                  21     66       NaN      23\n",
              "10   3/6/2020              1226                  18     84       NaN      27\n",
              "11   3/7/2020              1245                  29    113       NaN      28\n",
              "12   3/8/2020              1263                  41    154       NaN      33\n",
              "13   3/9/2020              1288                  90    244       NaN      37\n",
              "14  3/10/2020              1318                  69    313       NaN      40"
            ]
          },
          "metadata": {},
          "execution_count": 4
        }
      ]
    },
    {
      "cell_type": "code",
      "source": [
        "# create columns for daily counts, cases already has one\n",
        "data['new_hosp'] = data['Hospitalizations'].diff()\n",
        "data['new_vac'] = data['Vaccines'].diff()\n",
        "data['new_deaths'] = data['Deaths'].diff()"
      ],
      "metadata": {
        "id": "YHh_MsbjjKSV"
      },
      "execution_count": null,
      "outputs": []
    },
    {
      "cell_type": "code",
      "source": [
        "# add a time column\n",
        "data['Time'] = np.arange(len(data.index))"
      ],
      "metadata": {
        "id": "bEQWRzgWm-vb"
      },
      "execution_count": null,
      "outputs": []
    },
    {
      "cell_type": "code",
      "source": [
        "# check NA values do to nature of data can set NA values to 0\n",
        "data.info()"
      ],
      "metadata": {
        "colab": {
          "base_uri": "https://localhost:8080/"
        },
        "id": "Im5--vEaimJd",
        "outputId": "24ba846f-0d5a-412b-ca7f-c4bfacbc29d4"
      },
      "execution_count": null,
      "outputs": [
        {
          "output_type": "stream",
          "name": "stdout",
          "text": [
            "<class 'pandas.core.frame.DataFrame'>\n",
            "RangeIndex: 703 entries, 0 to 702\n",
            "Data columns (total 10 columns):\n",
            " #   Column              Non-Null Count  Dtype  \n",
            "---  ------              --------------  -----  \n",
            " 0   Date                703 non-null    object \n",
            " 1   Hospitalizations    703 non-null    int64  \n",
            " 2   New Cases Reported  703 non-null    int64  \n",
            " 3   Cases               703 non-null    int64  \n",
            " 4   Vaccines            407 non-null    float64\n",
            " 5   Deaths              703 non-null    int64  \n",
            " 6   new_hosp            702 non-null    float64\n",
            " 7   new_vac             406 non-null    float64\n",
            " 8   new_deaths          702 non-null    float64\n",
            " 9   Time                703 non-null    int64  \n",
            "dtypes: float64(4), int64(5), object(1)\n",
            "memory usage: 55.0+ KB\n"
          ]
        }
      ]
    },
    {
      "cell_type": "code",
      "source": [
        "data = data.fillna(0)\n",
        "data.info()"
      ],
      "metadata": {
        "colab": {
          "base_uri": "https://localhost:8080/"
        },
        "id": "Y8aja36hiPuf",
        "outputId": "08bce38f-1c2d-492a-aa8b-82a27cc4c33a"
      },
      "execution_count": null,
      "outputs": [
        {
          "output_type": "stream",
          "name": "stdout",
          "text": [
            "<class 'pandas.core.frame.DataFrame'>\n",
            "RangeIndex: 703 entries, 0 to 702\n",
            "Data columns (total 10 columns):\n",
            " #   Column              Non-Null Count  Dtype  \n",
            "---  ------              --------------  -----  \n",
            " 0   Date                703 non-null    object \n",
            " 1   Hospitalizations    703 non-null    int64  \n",
            " 2   New Cases Reported  703 non-null    int64  \n",
            " 3   Cases               703 non-null    int64  \n",
            " 4   Vaccines            703 non-null    float64\n",
            " 5   Deaths              703 non-null    int64  \n",
            " 6   new_hosp            703 non-null    float64\n",
            " 7   new_vac             703 non-null    float64\n",
            " 8   new_deaths          703 non-null    float64\n",
            " 9   Time                703 non-null    int64  \n",
            "dtypes: float64(4), int64(5), object(1)\n",
            "memory usage: 55.0+ KB\n"
          ]
        }
      ]
    },
    {
      "cell_type": "code",
      "source": [
        "data.head(15)"
      ],
      "metadata": {
        "colab": {
          "base_uri": "https://localhost:8080/",
          "height": 520
        },
        "id": "u6u-CzvhoVDT",
        "outputId": "f90cebd4-b752-4e69-f27b-29b1106a6c73"
      },
      "execution_count": null,
      "outputs": [
        {
          "output_type": "execute_result",
          "data": {
            "text/html": [
              "\n",
              "  <div id=\"df-871919c6-d621-4188-9c36-188f2f560ce1\">\n",
              "    <div class=\"colab-df-container\">\n",
              "      <div>\n",
              "<style scoped>\n",
              "    .dataframe tbody tr th:only-of-type {\n",
              "        vertical-align: middle;\n",
              "    }\n",
              "\n",
              "    .dataframe tbody tr th {\n",
              "        vertical-align: top;\n",
              "    }\n",
              "\n",
              "    .dataframe thead th {\n",
              "        text-align: right;\n",
              "    }\n",
              "</style>\n",
              "<table border=\"1\" class=\"dataframe\">\n",
              "  <thead>\n",
              "    <tr style=\"text-align: right;\">\n",
              "      <th></th>\n",
              "      <th>Date</th>\n",
              "      <th>Hospitalizations</th>\n",
              "      <th>New Cases Reported</th>\n",
              "      <th>Cases</th>\n",
              "      <th>Vaccines</th>\n",
              "      <th>Deaths</th>\n",
              "      <th>new_hosp</th>\n",
              "      <th>new_vac</th>\n",
              "      <th>new_deaths</th>\n",
              "      <th>Time</th>\n",
              "    </tr>\n",
              "  </thead>\n",
              "  <tbody>\n",
              "    <tr>\n",
              "      <th>0</th>\n",
              "      <td>2/25/2020</td>\n",
              "      <td>1092</td>\n",
              "      <td>0</td>\n",
              "      <td>1</td>\n",
              "      <td>0.0</td>\n",
              "      <td>2</td>\n",
              "      <td>0.0</td>\n",
              "      <td>0.0</td>\n",
              "      <td>0.0</td>\n",
              "      <td>0</td>\n",
              "    </tr>\n",
              "    <tr>\n",
              "      <th>1</th>\n",
              "      <td>2/26/2020</td>\n",
              "      <td>1094</td>\n",
              "      <td>0</td>\n",
              "      <td>1</td>\n",
              "      <td>0.0</td>\n",
              "      <td>4</td>\n",
              "      <td>2.0</td>\n",
              "      <td>0.0</td>\n",
              "      <td>2.0</td>\n",
              "      <td>1</td>\n",
              "    </tr>\n",
              "    <tr>\n",
              "      <th>2</th>\n",
              "      <td>2/27/2020</td>\n",
              "      <td>1105</td>\n",
              "      <td>0</td>\n",
              "      <td>1</td>\n",
              "      <td>0.0</td>\n",
              "      <td>4</td>\n",
              "      <td>11.0</td>\n",
              "      <td>0.0</td>\n",
              "      <td>0.0</td>\n",
              "      <td>2</td>\n",
              "    </tr>\n",
              "    <tr>\n",
              "      <th>3</th>\n",
              "      <td>2/28/2020</td>\n",
              "      <td>1114</td>\n",
              "      <td>0</td>\n",
              "      <td>1</td>\n",
              "      <td>0.0</td>\n",
              "      <td>6</td>\n",
              "      <td>9.0</td>\n",
              "      <td>0.0</td>\n",
              "      <td>2.0</td>\n",
              "      <td>3</td>\n",
              "    </tr>\n",
              "    <tr>\n",
              "      <th>4</th>\n",
              "      <td>2/29/2020</td>\n",
              "      <td>1121</td>\n",
              "      <td>0</td>\n",
              "      <td>1</td>\n",
              "      <td>0.0</td>\n",
              "      <td>7</td>\n",
              "      <td>7.0</td>\n",
              "      <td>0.0</td>\n",
              "      <td>1.0</td>\n",
              "      <td>4</td>\n",
              "    </tr>\n",
              "    <tr>\n",
              "      <th>5</th>\n",
              "      <td>3/1/2020</td>\n",
              "      <td>1129</td>\n",
              "      <td>0</td>\n",
              "      <td>1</td>\n",
              "      <td>0.0</td>\n",
              "      <td>10</td>\n",
              "      <td>8.0</td>\n",
              "      <td>0.0</td>\n",
              "      <td>3.0</td>\n",
              "      <td>5</td>\n",
              "    </tr>\n",
              "    <tr>\n",
              "      <th>6</th>\n",
              "      <td>3/2/2020</td>\n",
              "      <td>1150</td>\n",
              "      <td>13</td>\n",
              "      <td>14</td>\n",
              "      <td>0.0</td>\n",
              "      <td>13</td>\n",
              "      <td>21.0</td>\n",
              "      <td>0.0</td>\n",
              "      <td>3.0</td>\n",
              "      <td>6</td>\n",
              "    </tr>\n",
              "    <tr>\n",
              "      <th>7</th>\n",
              "      <td>3/3/2020</td>\n",
              "      <td>1162</td>\n",
              "      <td>16</td>\n",
              "      <td>30</td>\n",
              "      <td>0.0</td>\n",
              "      <td>16</td>\n",
              "      <td>12.0</td>\n",
              "      <td>0.0</td>\n",
              "      <td>3.0</td>\n",
              "      <td>7</td>\n",
              "    </tr>\n",
              "    <tr>\n",
              "      <th>8</th>\n",
              "      <td>3/4/2020</td>\n",
              "      <td>1176</td>\n",
              "      <td>15</td>\n",
              "      <td>45</td>\n",
              "      <td>0.0</td>\n",
              "      <td>18</td>\n",
              "      <td>14.0</td>\n",
              "      <td>0.0</td>\n",
              "      <td>2.0</td>\n",
              "      <td>8</td>\n",
              "    </tr>\n",
              "    <tr>\n",
              "      <th>9</th>\n",
              "      <td>3/5/2020</td>\n",
              "      <td>1203</td>\n",
              "      <td>21</td>\n",
              "      <td>66</td>\n",
              "      <td>0.0</td>\n",
              "      <td>23</td>\n",
              "      <td>27.0</td>\n",
              "      <td>0.0</td>\n",
              "      <td>5.0</td>\n",
              "      <td>9</td>\n",
              "    </tr>\n",
              "    <tr>\n",
              "      <th>10</th>\n",
              "      <td>3/6/2020</td>\n",
              "      <td>1226</td>\n",
              "      <td>18</td>\n",
              "      <td>84</td>\n",
              "      <td>0.0</td>\n",
              "      <td>27</td>\n",
              "      <td>23.0</td>\n",
              "      <td>0.0</td>\n",
              "      <td>4.0</td>\n",
              "      <td>10</td>\n",
              "    </tr>\n",
              "    <tr>\n",
              "      <th>11</th>\n",
              "      <td>3/7/2020</td>\n",
              "      <td>1245</td>\n",
              "      <td>29</td>\n",
              "      <td>113</td>\n",
              "      <td>0.0</td>\n",
              "      <td>28</td>\n",
              "      <td>19.0</td>\n",
              "      <td>0.0</td>\n",
              "      <td>1.0</td>\n",
              "      <td>11</td>\n",
              "    </tr>\n",
              "    <tr>\n",
              "      <th>12</th>\n",
              "      <td>3/8/2020</td>\n",
              "      <td>1263</td>\n",
              "      <td>41</td>\n",
              "      <td>154</td>\n",
              "      <td>0.0</td>\n",
              "      <td>33</td>\n",
              "      <td>18.0</td>\n",
              "      <td>0.0</td>\n",
              "      <td>5.0</td>\n",
              "      <td>12</td>\n",
              "    </tr>\n",
              "    <tr>\n",
              "      <th>13</th>\n",
              "      <td>3/9/2020</td>\n",
              "      <td>1288</td>\n",
              "      <td>90</td>\n",
              "      <td>244</td>\n",
              "      <td>0.0</td>\n",
              "      <td>37</td>\n",
              "      <td>25.0</td>\n",
              "      <td>0.0</td>\n",
              "      <td>4.0</td>\n",
              "      <td>13</td>\n",
              "    </tr>\n",
              "    <tr>\n",
              "      <th>14</th>\n",
              "      <td>3/10/2020</td>\n",
              "      <td>1318</td>\n",
              "      <td>69</td>\n",
              "      <td>313</td>\n",
              "      <td>0.0</td>\n",
              "      <td>40</td>\n",
              "      <td>30.0</td>\n",
              "      <td>0.0</td>\n",
              "      <td>3.0</td>\n",
              "      <td>14</td>\n",
              "    </tr>\n",
              "  </tbody>\n",
              "</table>\n",
              "</div>\n",
              "      <button class=\"colab-df-convert\" onclick=\"convertToInteractive('df-871919c6-d621-4188-9c36-188f2f560ce1')\"\n",
              "              title=\"Convert this dataframe to an interactive table.\"\n",
              "              style=\"display:none;\">\n",
              "        \n",
              "  <svg xmlns=\"http://www.w3.org/2000/svg\" height=\"24px\"viewBox=\"0 0 24 24\"\n",
              "       width=\"24px\">\n",
              "    <path d=\"M0 0h24v24H0V0z\" fill=\"none\"/>\n",
              "    <path d=\"M18.56 5.44l.94 2.06.94-2.06 2.06-.94-2.06-.94-.94-2.06-.94 2.06-2.06.94zm-11 1L8.5 8.5l.94-2.06 2.06-.94-2.06-.94L8.5 2.5l-.94 2.06-2.06.94zm10 10l.94 2.06.94-2.06 2.06-.94-2.06-.94-.94-2.06-.94 2.06-2.06.94z\"/><path d=\"M17.41 7.96l-1.37-1.37c-.4-.4-.92-.59-1.43-.59-.52 0-1.04.2-1.43.59L10.3 9.45l-7.72 7.72c-.78.78-.78 2.05 0 2.83L4 21.41c.39.39.9.59 1.41.59.51 0 1.02-.2 1.41-.59l7.78-7.78 2.81-2.81c.8-.78.8-2.07 0-2.86zM5.41 20L4 18.59l7.72-7.72 1.47 1.35L5.41 20z\"/>\n",
              "  </svg>\n",
              "      </button>\n",
              "      \n",
              "  <style>\n",
              "    .colab-df-container {\n",
              "      display:flex;\n",
              "      flex-wrap:wrap;\n",
              "      gap: 12px;\n",
              "    }\n",
              "\n",
              "    .colab-df-convert {\n",
              "      background-color: #E8F0FE;\n",
              "      border: none;\n",
              "      border-radius: 50%;\n",
              "      cursor: pointer;\n",
              "      display: none;\n",
              "      fill: #1967D2;\n",
              "      height: 32px;\n",
              "      padding: 0 0 0 0;\n",
              "      width: 32px;\n",
              "    }\n",
              "\n",
              "    .colab-df-convert:hover {\n",
              "      background-color: #E2EBFA;\n",
              "      box-shadow: 0px 1px 2px rgba(60, 64, 67, 0.3), 0px 1px 3px 1px rgba(60, 64, 67, 0.15);\n",
              "      fill: #174EA6;\n",
              "    }\n",
              "\n",
              "    [theme=dark] .colab-df-convert {\n",
              "      background-color: #3B4455;\n",
              "      fill: #D2E3FC;\n",
              "    }\n",
              "\n",
              "    [theme=dark] .colab-df-convert:hover {\n",
              "      background-color: #434B5C;\n",
              "      box-shadow: 0px 1px 3px 1px rgba(0, 0, 0, 0.15);\n",
              "      filter: drop-shadow(0px 1px 2px rgba(0, 0, 0, 0.3));\n",
              "      fill: #FFFFFF;\n",
              "    }\n",
              "  </style>\n",
              "\n",
              "      <script>\n",
              "        const buttonEl =\n",
              "          document.querySelector('#df-871919c6-d621-4188-9c36-188f2f560ce1 button.colab-df-convert');\n",
              "        buttonEl.style.display =\n",
              "          google.colab.kernel.accessAllowed ? 'block' : 'none';\n",
              "\n",
              "        async function convertToInteractive(key) {\n",
              "          const element = document.querySelector('#df-871919c6-d621-4188-9c36-188f2f560ce1');\n",
              "          const dataTable =\n",
              "            await google.colab.kernel.invokeFunction('convertToInteractive',\n",
              "                                                     [key], {});\n",
              "          if (!dataTable) return;\n",
              "\n",
              "          const docLinkHtml = 'Like what you see? Visit the ' +\n",
              "            '<a target=\"_blank\" href=https://colab.research.google.com/notebooks/data_table.ipynb>data table notebook</a>'\n",
              "            + ' to learn more about interactive tables.';\n",
              "          element.innerHTML = '';\n",
              "          dataTable['output_type'] = 'display_data';\n",
              "          await google.colab.output.renderOutput(dataTable, element);\n",
              "          const docLink = document.createElement('div');\n",
              "          docLink.innerHTML = docLinkHtml;\n",
              "          element.appendChild(docLink);\n",
              "        }\n",
              "      </script>\n",
              "    </div>\n",
              "  </div>\n",
              "  "
            ],
            "text/plain": [
              "         Date  Hospitalizations  New Cases Reported  ...  new_vac  new_deaths  Time\n",
              "0   2/25/2020              1092                   0  ...      0.0         0.0     0\n",
              "1   2/26/2020              1094                   0  ...      0.0         2.0     1\n",
              "2   2/27/2020              1105                   0  ...      0.0         0.0     2\n",
              "3   2/28/2020              1114                   0  ...      0.0         2.0     3\n",
              "4   2/29/2020              1121                   0  ...      0.0         1.0     4\n",
              "5    3/1/2020              1129                   0  ...      0.0         3.0     5\n",
              "6    3/2/2020              1150                  13  ...      0.0         3.0     6\n",
              "7    3/3/2020              1162                  16  ...      0.0         3.0     7\n",
              "8    3/4/2020              1176                  15  ...      0.0         2.0     8\n",
              "9    3/5/2020              1203                  21  ...      0.0         5.0     9\n",
              "10   3/6/2020              1226                  18  ...      0.0         4.0    10\n",
              "11   3/7/2020              1245                  29  ...      0.0         1.0    11\n",
              "12   3/8/2020              1263                  41  ...      0.0         5.0    12\n",
              "13   3/9/2020              1288                  90  ...      0.0         4.0    13\n",
              "14  3/10/2020              1318                  69  ...      0.0         3.0    14\n",
              "\n",
              "[15 rows x 10 columns]"
            ]
          },
          "metadata": {},
          "execution_count": 9
        }
      ]
    },
    {
      "cell_type": "markdown",
      "source": [
        "# Data Exploration"
      ],
      "metadata": {
        "id": "cwmmsYPYqUqi"
      }
    },
    {
      "cell_type": "code",
      "source": [
        "data.describe()"
      ],
      "metadata": {
        "colab": {
          "base_uri": "https://localhost:8080/",
          "height": 300
        },
        "id": "zMONfBedtDVL",
        "outputId": "c04c1b3a-1476-454f-d5a8-201b5a5fbdc0"
      },
      "execution_count": null,
      "outputs": [
        {
          "output_type": "execute_result",
          "data": {
            "text/html": [
              "\n",
              "  <div id=\"df-67499619-53ce-4cbd-98df-4065ccfc0a6b\">\n",
              "    <div class=\"colab-df-container\">\n",
              "      <div>\n",
              "<style scoped>\n",
              "    .dataframe tbody tr th:only-of-type {\n",
              "        vertical-align: middle;\n",
              "    }\n",
              "\n",
              "    .dataframe tbody tr th {\n",
              "        vertical-align: top;\n",
              "    }\n",
              "\n",
              "    .dataframe thead th {\n",
              "        text-align: right;\n",
              "    }\n",
              "</style>\n",
              "<table border=\"1\" class=\"dataframe\">\n",
              "  <thead>\n",
              "    <tr style=\"text-align: right;\">\n",
              "      <th></th>\n",
              "      <th>Hospitalizations</th>\n",
              "      <th>New Cases Reported</th>\n",
              "      <th>Cases</th>\n",
              "      <th>Vaccines</th>\n",
              "      <th>Deaths</th>\n",
              "      <th>new_hosp</th>\n",
              "      <th>new_vac</th>\n",
              "      <th>new_deaths</th>\n",
              "      <th>Time</th>\n",
              "    </tr>\n",
              "  </thead>\n",
              "  <tbody>\n",
              "    <tr>\n",
              "      <th>count</th>\n",
              "      <td>703.000000</td>\n",
              "      <td>703.000000</td>\n",
              "      <td>7.030000e+02</td>\n",
              "      <td>7.030000e+02</td>\n",
              "      <td>703.000000</td>\n",
              "      <td>703.000000</td>\n",
              "      <td>703.000000</td>\n",
              "      <td>703.000000</td>\n",
              "      <td>703.000000</td>\n",
              "    </tr>\n",
              "    <tr>\n",
              "      <th>mean</th>\n",
              "      <td>20034.984353</td>\n",
              "      <td>1841.389758</td>\n",
              "      <td>3.348000e+05</td>\n",
              "      <td>3.939406e+06</td>\n",
              "      <td>4523.671408</td>\n",
              "      <td>73.863442</td>\n",
              "      <td>17954.691323</td>\n",
              "      <td>15.216216</td>\n",
              "      <td>351.000000</td>\n",
              "    </tr>\n",
              "    <tr>\n",
              "      <th>std</th>\n",
              "      <td>14123.885448</td>\n",
              "      <td>3257.851156</td>\n",
              "      <td>2.900508e+05</td>\n",
              "      <td>4.450399e+06</td>\n",
              "      <td>3055.390423</td>\n",
              "      <td>57.055515</td>\n",
              "      <td>22558.748645</td>\n",
              "      <td>10.666075</td>\n",
              "      <td>203.082906</td>\n",
              "    </tr>\n",
              "    <tr>\n",
              "      <th>min</th>\n",
              "      <td>1092.000000</td>\n",
              "      <td>0.000000</td>\n",
              "      <td>1.000000e+00</td>\n",
              "      <td>0.000000e+00</td>\n",
              "      <td>2.000000</td>\n",
              "      <td>0.000000</td>\n",
              "      <td>0.000000</td>\n",
              "      <td>0.000000</td>\n",
              "      <td>0.000000</td>\n",
              "    </tr>\n",
              "    <tr>\n",
              "      <th>25%</th>\n",
              "      <td>7429.500000</td>\n",
              "      <td>470.500000</td>\n",
              "      <td>6.905400e+04</td>\n",
              "      <td>0.000000e+00</td>\n",
              "      <td>1809.500000</td>\n",
              "      <td>34.000000</td>\n",
              "      <td>0.000000</td>\n",
              "      <td>7.000000</td>\n",
              "      <td>175.500000</td>\n",
              "    </tr>\n",
              "    <tr>\n",
              "      <th>50%</th>\n",
              "      <td>19244.000000</td>\n",
              "      <td>912.000000</td>\n",
              "      <td>3.250510e+05</td>\n",
              "      <td>1.075985e+06</td>\n",
              "      <td>4807.000000</td>\n",
              "      <td>54.000000</td>\n",
              "      <td>9899.000000</td>\n",
              "      <td>12.000000</td>\n",
              "      <td>351.000000</td>\n",
              "    </tr>\n",
              "    <tr>\n",
              "      <th>75%</th>\n",
              "      <td>28215.500000</td>\n",
              "      <td>1981.000000</td>\n",
              "      <td>4.867350e+05</td>\n",
              "      <td>8.280368e+06</td>\n",
              "      <td>6250.500000</td>\n",
              "      <td>99.000000</td>\n",
              "      <td>30096.000000</td>\n",
              "      <td>21.000000</td>\n",
              "      <td>526.500000</td>\n",
              "    </tr>\n",
              "    <tr>\n",
              "      <th>max</th>\n",
              "      <td>53018.000000</td>\n",
              "      <td>39227.000000</td>\n",
              "      <td>1.294498e+06</td>\n",
              "      <td>1.262217e+07</td>\n",
              "      <td>10699.000000</td>\n",
              "      <td>339.000000</td>\n",
              "      <td>92611.000000</td>\n",
              "      <td>53.000000</td>\n",
              "      <td>702.000000</td>\n",
              "    </tr>\n",
              "  </tbody>\n",
              "</table>\n",
              "</div>\n",
              "      <button class=\"colab-df-convert\" onclick=\"convertToInteractive('df-67499619-53ce-4cbd-98df-4065ccfc0a6b')\"\n",
              "              title=\"Convert this dataframe to an interactive table.\"\n",
              "              style=\"display:none;\">\n",
              "        \n",
              "  <svg xmlns=\"http://www.w3.org/2000/svg\" height=\"24px\"viewBox=\"0 0 24 24\"\n",
              "       width=\"24px\">\n",
              "    <path d=\"M0 0h24v24H0V0z\" fill=\"none\"/>\n",
              "    <path d=\"M18.56 5.44l.94 2.06.94-2.06 2.06-.94-2.06-.94-.94-2.06-.94 2.06-2.06.94zm-11 1L8.5 8.5l.94-2.06 2.06-.94-2.06-.94L8.5 2.5l-.94 2.06-2.06.94zm10 10l.94 2.06.94-2.06 2.06-.94-2.06-.94-.94-2.06-.94 2.06-2.06.94z\"/><path d=\"M17.41 7.96l-1.37-1.37c-.4-.4-.92-.59-1.43-.59-.52 0-1.04.2-1.43.59L10.3 9.45l-7.72 7.72c-.78.78-.78 2.05 0 2.83L4 21.41c.39.39.9.59 1.41.59.51 0 1.02-.2 1.41-.59l7.78-7.78 2.81-2.81c.8-.78.8-2.07 0-2.86zM5.41 20L4 18.59l7.72-7.72 1.47 1.35L5.41 20z\"/>\n",
              "  </svg>\n",
              "      </button>\n",
              "      \n",
              "  <style>\n",
              "    .colab-df-container {\n",
              "      display:flex;\n",
              "      flex-wrap:wrap;\n",
              "      gap: 12px;\n",
              "    }\n",
              "\n",
              "    .colab-df-convert {\n",
              "      background-color: #E8F0FE;\n",
              "      border: none;\n",
              "      border-radius: 50%;\n",
              "      cursor: pointer;\n",
              "      display: none;\n",
              "      fill: #1967D2;\n",
              "      height: 32px;\n",
              "      padding: 0 0 0 0;\n",
              "      width: 32px;\n",
              "    }\n",
              "\n",
              "    .colab-df-convert:hover {\n",
              "      background-color: #E2EBFA;\n",
              "      box-shadow: 0px 1px 2px rgba(60, 64, 67, 0.3), 0px 1px 3px 1px rgba(60, 64, 67, 0.15);\n",
              "      fill: #174EA6;\n",
              "    }\n",
              "\n",
              "    [theme=dark] .colab-df-convert {\n",
              "      background-color: #3B4455;\n",
              "      fill: #D2E3FC;\n",
              "    }\n",
              "\n",
              "    [theme=dark] .colab-df-convert:hover {\n",
              "      background-color: #434B5C;\n",
              "      box-shadow: 0px 1px 3px 1px rgba(0, 0, 0, 0.15);\n",
              "      filter: drop-shadow(0px 1px 2px rgba(0, 0, 0, 0.3));\n",
              "      fill: #FFFFFF;\n",
              "    }\n",
              "  </style>\n",
              "\n",
              "      <script>\n",
              "        const buttonEl =\n",
              "          document.querySelector('#df-67499619-53ce-4cbd-98df-4065ccfc0a6b button.colab-df-convert');\n",
              "        buttonEl.style.display =\n",
              "          google.colab.kernel.accessAllowed ? 'block' : 'none';\n",
              "\n",
              "        async function convertToInteractive(key) {\n",
              "          const element = document.querySelector('#df-67499619-53ce-4cbd-98df-4065ccfc0a6b');\n",
              "          const dataTable =\n",
              "            await google.colab.kernel.invokeFunction('convertToInteractive',\n",
              "                                                     [key], {});\n",
              "          if (!dataTable) return;\n",
              "\n",
              "          const docLinkHtml = 'Like what you see? Visit the ' +\n",
              "            '<a target=\"_blank\" href=https://colab.research.google.com/notebooks/data_table.ipynb>data table notebook</a>'\n",
              "            + ' to learn more about interactive tables.';\n",
              "          element.innerHTML = '';\n",
              "          dataTable['output_type'] = 'display_data';\n",
              "          await google.colab.output.renderOutput(dataTable, element);\n",
              "          const docLink = document.createElement('div');\n",
              "          docLink.innerHTML = docLinkHtml;\n",
              "          element.appendChild(docLink);\n",
              "        }\n",
              "      </script>\n",
              "    </div>\n",
              "  </div>\n",
              "  "
            ],
            "text/plain": [
              "       Hospitalizations  New Cases Reported  ...  new_deaths        Time\n",
              "count        703.000000          703.000000  ...  703.000000  703.000000\n",
              "mean       20034.984353         1841.389758  ...   15.216216  351.000000\n",
              "std        14123.885448         3257.851156  ...   10.666075  203.082906\n",
              "min         1092.000000            0.000000  ...    0.000000    0.000000\n",
              "25%         7429.500000          470.500000  ...    7.000000  175.500000\n",
              "50%        19244.000000          912.000000  ...   12.000000  351.000000\n",
              "75%        28215.500000         1981.000000  ...   21.000000  526.500000\n",
              "max        53018.000000        39227.000000  ...   53.000000  702.000000\n",
              "\n",
              "[8 rows x 9 columns]"
            ]
          },
          "metadata": {},
          "execution_count": 10
        }
      ]
    },
    {
      "cell_type": "code",
      "source": [
        "plt.figure(figsize=(6,6))\n",
        "plt.scatter(data['Time'], data['new_hosp'], color='red', s = 4)\n",
        "plt.title('Daily Hospitalizations', fontsize=14)\n",
        "plt.xlabel('Days Since Start', fontsize=14)\n",
        "plt.ylabel('# of Hospitalizations', fontsize=14)\n",
        "plt.grid(True)\n",
        "plt.show()"
      ],
      "metadata": {
        "colab": {
          "base_uri": "https://localhost:8080/",
          "height": 409
        },
        "id": "ZTcbDQgKqXMK",
        "outputId": "682da819-d067-43da-df6c-1addbffca101"
      },
      "execution_count": null,
      "outputs": [
        {
          "output_type": "display_data",
          "data": {
            "image/png": "[encoded data removed]",
            "text/plain": [
              "<Figure size 432x432 with 1 Axes>"
            ]
          },
          "metadata": {
            "needs_background": "light"
          }
        }
      ]
    },
    {
      "cell_type": "code",
      "source": [
        "plt.figure(figsize=(6,6))\n",
        "plt.scatter(data['Time'], data['New Cases Reported'], color='red', s= 4)\n",
        "plt.title('Daily Cases', fontsize=14)\n",
        "plt.xlabel('Days Since Start', fontsize=14)\n",
        "plt.ylabel('# of Cases', fontsize=14)\n",
        "plt.grid(True)\n",
        "plt.show()"
      ],
      "metadata": {
        "colab": {
          "base_uri": "https://localhost:8080/",
          "height": 409
        },
        "id": "mebXbzcVrjWy",
        "outputId": "6519b3fb-721f-47d3-dd72-0cd0925a3c32"
      },
      "execution_count": null,
      "outputs": [
        {
          "output_type": "display_data",
          "data": {
            "image/png": "[encoded data removed]",
            "text/plain": [
              "<Figure size 432x432 with 1 Axes>"
            ]
          },
          "metadata": {
            "needs_background": "light"
          }
        }
      ]
    },
    {
      "cell_type": "code",
      "source": [
        "plt.figure(figsize=(6,6))\n",
        "plt.scatter(data['Time'], data['new_deaths'], color='red', s = 4)\n",
        "plt.title('Daily Deaths', fontsize=14)\n",
        "plt.xlabel('Days Since Start', fontsize=14)\n",
        "plt.ylabel('# of Deaths', fontsize=14)\n",
        "plt.grid(True)\n",
        "plt.show()"
      ],
      "metadata": {
        "colab": {
          "base_uri": "https://localhost:8080/",
          "height": 409
        },
        "id": "CMvX4AxArqw4",
        "outputId": "c0beb680-74a2-4635-a867-1ef37ff0c8c3"
      },
      "execution_count": null,
      "outputs": [
        {
          "output_type": "display_data",
          "data": {
            "image/png": "[encoded data removed]",
            "text/plain": [
              "<Figure size 432x432 with 1 Axes>"
            ]
          },
          "metadata": {
            "needs_background": "light"
          }
        }
      ]
    },
    {
      "cell_type": "code",
      "source": [
        "plt.figure(figsize=(6,6))\n",
        "plt.scatter(data['Time'], data['new_vac'], color='red', s = 4)\n",
        "plt.title('Daily Vaccinations', fontsize=14)\n",
        "plt.xlabel('Days Since Start', fontsize=14)\n",
        "plt.ylabel('# of Vaccinations', fontsize=14)\n",
        "plt.grid(True)\n",
        "plt.ylim(0,100000)\n",
        "plt.show()"
      ],
      "metadata": {
        "colab": {
          "base_uri": "https://localhost:8080/",
          "height": 409
        },
        "id": "x88Cy_8esrls",
        "outputId": "50d95408-bfd0-4cea-82ce-7f01fccd6117"
      },
      "execution_count": null,
      "outputs": [
        {
          "output_type": "display_data",
          "data": {
            "image/png": "[encoded data removed]",
            "text/plain": [
              "<Figure size 432x432 with 1 Axes>"
            ]
          },
          "metadata": {
            "needs_background": "light"
          }
        }
      ]
    },
    {
      "cell_type": "markdown",
      "source": [
        "# Multiple Linear Regression"
      ],
      "metadata": {
        "id": "Fa2Z5QjflUQD"
      }
    },
    {
      "cell_type": "code",
      "source": [
        "from sklearn.linear_model import LinearRegression\n",
        "from sklearn import linear_model\n",
        "from sklearn.model_selection import train_test_split"
      ],
      "metadata": {
        "id": "a_Yz3Tx0lH68"
      },
      "execution_count": null,
      "outputs": []
    },
    {
      "cell_type": "code",
      "source": [
        "X = data[['New Cases Reported','new_deaths','new_vac','Time']]\n",
        "Y = data[['new_hosp']]\n",
        "\n",
        "x_train, x_test,y_train,y_test = train_test_split(X,Y,test_size =0.2)"
      ],
      "metadata": {
        "id": "8S_nfOGAmF-E"
      },
      "execution_count": null,
      "outputs": []
    },
    {
      "cell_type": "code",
      "source": [
        "reg = linear_model.LinearRegression()\n",
        "reg.fit(x_train,y_train)\n",
        "\n",
        "print('Intercept: \\n', reg.intercept_)\n",
        "print('Coefficients: \\n', reg.coef_)"
      ],
      "metadata": {
        "colab": {
          "base_uri": "https://localhost:8080/"
        },
        "id": "GOX6O2a6vxZV",
        "outputId": "a7942e8a-973b-4b5d-8b14-e7a223e06d33"
      },
      "execution_count": null,
      "outputs": [
        {
          "output_type": "stream",
          "name": "stdout",
          "text": [
            "Intercept: \n",
            " [3.73040195]\n",
            "Coefficients: \n",
            " [[ 9.11634423e-03  2.25697559e+00 -8.56267415e-05  5.59569757e-02]]\n"
          ]
        }
      ]
    },
    {
      "cell_type": "code",
      "source": [
        "reg.score(x_train,y_train)"
      ],
      "metadata": {
        "colab": {
          "base_uri": "https://localhost:8080/"
        },
        "id": "pmfqK0_5vUSn",
        "outputId": "cf65251e-48c7-4c57-d6c5-a8aeccf96f3d"
      },
      "execution_count": null,
      "outputs": [
        {
          "output_type": "execute_result",
          "data": {
            "text/plain": [
              "0.8252614450433253"
            ]
          },
          "metadata": {},
          "execution_count": 62
        }
      ]
    },
    {
      "cell_type": "code",
      "source": [
        "reg.score(x_test,y_test)"
      ],
      "metadata": {
        "colab": {
          "base_uri": "https://localhost:8080/"
        },
        "id": "OkQGNRPCwACd",
        "outputId": "2e745e52-8547-4938-9a5c-a39e0ac35d96"
      },
      "execution_count": null,
      "outputs": [
        {
          "output_type": "execute_result",
          "data": {
            "text/plain": [
              "0.7538802492604677"
            ]
          },
          "metadata": {},
          "execution_count": 63
        }
      ]
    },
    {
      "cell_type": "code",
      "source": [
        "y_predicted = reg.predict(x_test)\n",
        "resid = y_test - y_predicted"
      ],
      "metadata": {
        "id": "aPbHpuWH8Kw-"
      },
      "execution_count": null,
      "outputs": []
    },
    {
      "cell_type": "code",
      "source": [
        "plt.figure(figsize=(6,6))\n",
        "plt.scatter(x_test['Time'], resid, color='black', s= 4)\n",
        "plt.axhline(y=0, color='r', linestyle='-')\n",
        "plt.title('Residual Plot', fontsize=14)\n",
        "plt.xlabel('Days Since Start', fontsize=14)\n",
        "plt.ylabel('Residuals', fontsize=14)\n",
        "plt.grid(True)\n",
        "plt.show()"
      ],
      "metadata": {
        "colab": {
          "base_uri": "https://localhost:8080/",
          "height": 409
        },
        "id": "ou9FRXJg6JZH",
        "outputId": "227a741a-fa5d-420b-bef7-275653324cde"
      },
      "execution_count": null,
      "outputs": [
        {
          "output_type": "display_data",
          "data": {
            "image/png": "[encoded data removed]",
            "text/plain": [
              "<Figure size 432x432 with 1 Axes>"
            ]
          },
          "metadata": {
            "needs_background": "light"
          }
        }
      ]
    },
    {
      "cell_type": "code",
      "source": [
        "plt.figure(figsize=(6,6))\n",
        "plt.scatter(x_test['Time'], reg.predict(x_test), color='blue', s= 4)\n",
        "plt.scatter(x_test['Time'], y_test['new_hosp'], color = 'red', s =4)\n",
        "plt.legend(['Predicted','Actual'])\n",
        "plt.title('Daily Hospitalizations', fontsize=14)\n",
        "plt.xlabel('Days Since Start', fontsize=14)\n",
        "plt.ylabel('# of Hospitalizations', fontsize=14)\n",
        "plt.grid(True)\n",
        "plt.show()"
      ],
      "metadata": {
        "colab": {
          "base_uri": "https://localhost:8080/",
          "height": 409
        },
        "id": "lBOM1Z9Z4UIh",
        "outputId": "9ddef250-b726-4815-b331-0ca04a3bbe6a"
      },
      "execution_count": null,
      "outputs": [
        {
          "output_type": "display_data",
          "data": {
            "image/png": "[encoded data removed]",
            "text/plain": [
              "<Figure size 432x432 with 1 Axes>"
            ]
          },
          "metadata": {
            "needs_background": "light"
          }
        }
      ]
    }
  ]
}