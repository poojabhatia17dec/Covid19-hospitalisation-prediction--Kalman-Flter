{
  "nbformat": 4,
  "nbformat_minor": 0,
  "metadata": {
    "colab": {
      "name": "Copy of Kalman Filter Project.ipynb",
      "provenance": []
    },
    "kernelspec": {
      "name": "python3",
      "display_name": "Python 3"
    },
    "language_info": {
      "name": "python"
    }
  },
  "cells": [
    {
      "cell_type": "code",
      "execution_count": null,
      "metadata": {
        "id": "Mdf2Ob4QVIBn"
      },
      "outputs": [],
      "source": [
        "import numpy as np\n",
        "import matplotlib.pyplot as plt\n",
        "import pandas as pd\n",
        "import math\n",
        "from scipy import stats, special\n",
        "import seaborn as sns \n",
        "sns.set_style(\"whitegrid\")\n",
        "from numpy.linalg import inv\n",
        "\n",
        "from sklearn.linear_model import LinearRegression\n",
        "from sklearn import linear_model\n",
        "from sklearn.model_selection import train_test_split\n",
        "from sklearn.metrics import mean_squared_error"
      ]
    },
    {
      "cell_type": "markdown",
      "source": [
        "# Data Preparation"
      ],
      "metadata": {
        "id": "DkcUbykhlKp9"
      }
    },
    {
      "cell_type": "code",
      "source": [
        "# create dataframes from CSV's\n",
        "cases = pd.read_csv('https://raw.githubusercontent.com/poojabhatia17dec/Covid19-hospitalisation-prediction--Kalman-Flter/main/Cumulative_Cases.csv')\n",
        "vac = pd.read_csv('https://raw.githubusercontent.com/poojabhatia17dec/Covid19-hospitalisation-prediction--Kalman-Flter/main/Cumulative__Vaccinations.csv')\n",
        "death = pd.read_csv('https://raw.githubusercontent.com/poojabhatia17dec/Covid19-hospitalisation-prediction--Kalman-Flter/main/Cumulative__Deaths.csv')\n",
        "hosp = pd.read_csv('https://raw.githubusercontent.com/poojabhatia17dec/Covid19-hospitalisation-prediction--Kalman-Flter/main/Cumulative__Hospitalizations.csv')"
      ],
      "metadata": {
        "id": "rs9hhYzkVcNd"
      },
      "execution_count": null,
      "outputs": []
    },
    {
      "cell_type": "code",
      "source": [
        "# combine into one dataframe\n",
        "data = hosp.join(cases.set_index('Date'), on='Date').join(vac.set_index('Date'), on='Date').join(death.set_index('Date'), on='Date')"
      ],
      "metadata": {
        "id": "kN_b8zx_XRKO"
      },
      "execution_count": null,
      "outputs": []
    },
    {
      "cell_type": "code",
      "source": [
        "data.head(15)"
      ],
      "metadata": {
        "colab": {
          "base_uri": "https://localhost:8080/"
        },
        "id": "d17NBumHgxaB",
        "outputId": "fb2daf4e-8726-45b9-abb3-a5a69f5fddee"
      },
      "execution_count": null,
      "outputs": [
        {
          "output_type": "execute_result",
          "data": {
            "text/html": [
              "\n",
              "  <div id=\"df-345bb359-b430-4b0e-8016-e288b57bf074\">\n",
              "    <div class=\"colab-df-container\">\n",
              "      <div>\n",
              "<style scoped>\n",
              "    .dataframe tbody tr th:only-of-type {\n",
              "        vertical-align: middle;\n",
              "    }\n",
              "\n",
              "    .dataframe tbody tr th {\n",
              "        vertical-align: top;\n",
              "    }\n",
              "\n",
              "    .dataframe thead th {\n",
              "        text-align: right;\n",
              "    }\n",
              "</style>\n",
              "<table border=\"1\" class=\"dataframe\">\n",
              "  <thead>\n",
              "    <tr style=\"text-align: right;\">\n",
              "      <th></th>\n",
              "      <th>Date</th>\n",
              "      <th>Hospitalizations</th>\n",
              "      <th>New Cases Reported</th>\n",
              "      <th>Cases</th>\n",
              "      <th>Vaccines</th>\n",
              "      <th>Deaths</th>\n",
              "    </tr>\n",
              "  </thead>\n",
              "  <tbody>\n",
              "    <tr>\n",
              "      <th>0</th>\n",
              "      <td>2/25/2020</td>\n",
              "      <td>1092</td>\n",
              "      <td>0</td>\n",
              "      <td>1</td>\n",
              "      <td>NaN</td>\n",
              "      <td>2</td>\n",
              "    </tr>\n",
              "    <tr>\n",
              "      <th>1</th>\n",
              "      <td>2/26/2020</td>\n",
              "      <td>1094</td>\n",
              "      <td>0</td>\n",
              "      <td>1</td>\n",
              "      <td>NaN</td>\n",
              "      <td>4</td>\n",
              "    </tr>\n",
              "    <tr>\n",
              "      <th>2</th>\n",
              "      <td>2/27/2020</td>\n",
              "      <td>1105</td>\n",
              "      <td>0</td>\n",
              "      <td>1</td>\n",
              "      <td>NaN</td>\n",
              "      <td>4</td>\n",
              "    </tr>\n",
              "    <tr>\n",
              "      <th>3</th>\n",
              "      <td>2/28/2020</td>\n",
              "      <td>1114</td>\n",
              "      <td>0</td>\n",
              "      <td>1</td>\n",
              "      <td>NaN</td>\n",
              "      <td>6</td>\n",
              "    </tr>\n",
              "    <tr>\n",
              "      <th>4</th>\n",
              "      <td>2/29/2020</td>\n",
              "      <td>1121</td>\n",
              "      <td>0</td>\n",
              "      <td>1</td>\n",
              "      <td>NaN</td>\n",
              "      <td>7</td>\n",
              "    </tr>\n",
              "    <tr>\n",
              "      <th>5</th>\n",
              "      <td>3/1/2020</td>\n",
              "      <td>1129</td>\n",
              "      <td>0</td>\n",
              "      <td>1</td>\n",
              "      <td>NaN</td>\n",
              "      <td>10</td>\n",
              "    </tr>\n",
              "    <tr>\n",
              "      <th>6</th>\n",
              "      <td>3/2/2020</td>\n",
              "      <td>1150</td>\n",
              "      <td>13</td>\n",
              "      <td>14</td>\n",
              "      <td>NaN</td>\n",
              "      <td>13</td>\n",
              "    </tr>\n",
              "    <tr>\n",
              "      <th>7</th>\n",
              "      <td>3/3/2020</td>\n",
              "      <td>1162</td>\n",
              "      <td>16</td>\n",
              "      <td>30</td>\n",
              "      <td>NaN</td>\n",
              "      <td>16</td>\n",
              "    </tr>\n",
              "    <tr>\n",
              "      <th>8</th>\n",
              "      <td>3/4/2020</td>\n",
              "      <td>1176</td>\n",
              "      <td>15</td>\n",
              "      <td>45</td>\n",
              "      <td>NaN</td>\n",
              "      <td>18</td>\n",
              "    </tr>\n",
              "    <tr>\n",
              "      <th>9</th>\n",
              "      <td>3/5/2020</td>\n",
              "      <td>1203</td>\n",
              "      <td>21</td>\n",
              "      <td>66</td>\n",
              "      <td>NaN</td>\n",
              "      <td>23</td>\n",
              "    </tr>\n",
              "    <tr>\n",
              "      <th>10</th>\n",
              "      <td>3/6/2020</td>\n",
              "      <td>1226</td>\n",
              "      <td>18</td>\n",
              "      <td>84</td>\n",
              "      <td>NaN</td>\n",
              "      <td>27</td>\n",
              "    </tr>\n",
              "    <tr>\n",
              "      <th>11</th>\n",
              "      <td>3/7/2020</td>\n",
              "      <td>1245</td>\n",
              "      <td>29</td>\n",
              "      <td>113</td>\n",
              "      <td>NaN</td>\n",
              "      <td>28</td>\n",
              "    </tr>\n",
              "    <tr>\n",
              "      <th>12</th>\n",
              "      <td>3/8/2020</td>\n",
              "      <td>1263</td>\n",
              "      <td>41</td>\n",
              "      <td>154</td>\n",
              "      <td>NaN</td>\n",
              "      <td>33</td>\n",
              "    </tr>\n",
              "    <tr>\n",
              "      <th>13</th>\n",
              "      <td>3/9/2020</td>\n",
              "      <td>1288</td>\n",
              "      <td>90</td>\n",
              "      <td>244</td>\n",
              "      <td>NaN</td>\n",
              "      <td>37</td>\n",
              "    </tr>\n",
              "    <tr>\n",
              "      <th>14</th>\n",
              "      <td>3/10/2020</td>\n",
              "      <td>1318</td>\n",
              "      <td>69</td>\n",
              "      <td>313</td>\n",
              "      <td>NaN</td>\n",
              "      <td>40</td>\n",
              "    </tr>\n",
              "  </tbody>\n",
              "</table>\n",
              "</div>\n",
              "      <button class=\"colab-df-convert\" onclick=\"convertToInteractive('df-345bb359-b430-4b0e-8016-e288b57bf074')\"\n",
              "              title=\"Convert this dataframe to an interactive table.\"\n",
              "              style=\"display:none;\">\n",
              "        \n",
              "  <svg xmlns=\"http://www.w3.org/2000/svg\" height=\"24px\"viewBox=\"0 0 24 24\"\n",
              "       width=\"24px\">\n",
              "    <path d=\"M0 0h24v24H0V0z\" fill=\"none\"/>\n",
              "    <path d=\"M18.56 5.44l.94 2.06.94-2.06 2.06-.94-2.06-.94-.94-2.06-.94 2.06-2.06.94zm-11 1L8.5 8.5l.94-2.06 2.06-.94-2.06-.94L8.5 2.5l-.94 2.06-2.06.94zm10 10l.94 2.06.94-2.06 2.06-.94-2.06-.94-.94-2.06-.94 2.06-2.06.94z\"/><path d=\"M17.41 7.96l-1.37-1.37c-.4-.4-.92-.59-1.43-.59-.52 0-1.04.2-1.43.59L10.3 9.45l-7.72 7.72c-.78.78-.78 2.05 0 2.83L4 21.41c.39.39.9.59 1.41.59.51 0 1.02-.2 1.41-.59l7.78-7.78 2.81-2.81c.8-.78.8-2.07 0-2.86zM5.41 20L4 18.59l7.72-7.72 1.47 1.35L5.41 20z\"/>\n",
              "  </svg>\n",
              "      </button>\n",
              "      \n",
              "  <style>\n",
              "    .colab-df-container {\n",
              "      display:flex;\n",
              "      flex-wrap:wrap;\n",
              "      gap: 12px;\n",
              "    }\n",
              "\n",
              "    .colab-df-convert {\n",
              "      background-color: #E8F0FE;\n",
              "      border: none;\n",
              "      border-radius: 50%;\n",
              "      cursor: pointer;\n",
              "      display: none;\n",
              "      fill: #1967D2;\n",
              "      height: 32px;\n",
              "      padding: 0 0 0 0;\n",
              "      width: 32px;\n",
              "    }\n",
              "\n",
              "    .colab-df-convert:hover {\n",
              "      background-color: #E2EBFA;\n",
              "      box-shadow: 0px 1px 2px rgba(60, 64, 67, 0.3), 0px 1px 3px 1px rgba(60, 64, 67, 0.15);\n",
              "      fill: #174EA6;\n",
              "    }\n",
              "\n",
              "    [theme=dark] .colab-df-convert {\n",
              "      background-color: #3B4455;\n",
              "      fill: #D2E3FC;\n",
              "    }\n",
              "\n",
              "    [theme=dark] .colab-df-convert:hover {\n",
              "      background-color: #434B5C;\n",
              "      box-shadow: 0px 1px 3px 1px rgba(0, 0, 0, 0.15);\n",
              "      filter: drop-shadow(0px 1px 2px rgba(0, 0, 0, 0.3));\n",
              "      fill: #FFFFFF;\n",
              "    }\n",
              "  </style>\n",
              "\n",
              "      <script>\n",
              "        const buttonEl =\n",
              "          document.querySelector('#df-345bb359-b430-4b0e-8016-e288b57bf074 button.colab-df-convert');\n",
              "        buttonEl.style.display =\n",
              "          google.colab.kernel.accessAllowed ? 'block' : 'none';\n",
              "\n",
              "        async function convertToInteractive(key) {\n",
              "          const element = document.querySelector('#df-345bb359-b430-4b0e-8016-e288b57bf074');\n",
              "          const dataTable =\n",
              "            await google.colab.kernel.invokeFunction('convertToInteractive',\n",
              "                                                     [key], {});\n",
              "          if (!dataTable) return;\n",
              "\n",
              "          const docLinkHtml = 'Like what you see? Visit the ' +\n",
              "            '<a target=\"_blank\" href=https://colab.research.google.com/notebooks/data_table.ipynb>data table notebook</a>'\n",
              "            + ' to learn more about interactive tables.';\n",
              "          element.innerHTML = '';\n",
              "          dataTable['output_type'] = 'display_data';\n",
              "          await google.colab.output.renderOutput(dataTable, element);\n",
              "          const docLink = document.createElement('div');\n",
              "          docLink.innerHTML = docLinkHtml;\n",
              "          element.appendChild(docLink);\n",
              "        }\n",
              "      </script>\n",
              "    </div>\n",
              "  </div>\n",
              "  "
            ],
            "text/plain": [
              "         Date  Hospitalizations  New Cases Reported  Cases  Vaccines  Deaths\n",
              "0   2/25/2020              1092                   0      1       NaN       2\n",
              "1   2/26/2020              1094                   0      1       NaN       4\n",
              "2   2/27/2020              1105                   0      1       NaN       4\n",
              "3   2/28/2020              1114                   0      1       NaN       6\n",
              "4   2/29/2020              1121                   0      1       NaN       7\n",
              "5    3/1/2020              1129                   0      1       NaN      10\n",
              "6    3/2/2020              1150                  13     14       NaN      13\n",
              "7    3/3/2020              1162                  16     30       NaN      16\n",
              "8    3/4/2020              1176                  15     45       NaN      18\n",
              "9    3/5/2020              1203                  21     66       NaN      23\n",
              "10   3/6/2020              1226                  18     84       NaN      27\n",
              "11   3/7/2020              1245                  29    113       NaN      28\n",
              "12   3/8/2020              1263                  41    154       NaN      33\n",
              "13   3/9/2020              1288                  90    244       NaN      37\n",
              "14  3/10/2020              1318                  69    313       NaN      40"
            ]
          },
          "metadata": {},
          "execution_count": 211
        }
      ]
    },
    {
      "cell_type": "code",
      "source": [
        "# create columns for daily counts, cases already has one\n",
        "data['new_hosp'] = data['Hospitalizations'].diff()\n",
        "data['new_vac'] = data['Vaccines'].diff()\n",
        "data['new_deaths'] = data['Deaths'].diff()"
      ],
      "metadata": {
        "id": "YHh_MsbjjKSV"
      },
      "execution_count": null,
      "outputs": []
    },
    {
      "cell_type": "code",
      "source": [
        "# add a time column\n",
        "data['Time'] = np.arange(len(data.index))"
      ],
      "metadata": {
        "id": "bEQWRzgWm-vb"
      },
      "execution_count": null,
      "outputs": []
    },
    {
      "cell_type": "code",
      "source": [
        "# check NA values do to nature of data can set NA values to 0\n",
        "data.info()"
      ],
      "metadata": {
        "colab": {
          "base_uri": "https://localhost:8080/"
        },
        "id": "Im5--vEaimJd",
        "outputId": "1d10fbc3-037c-4200-af49-dc06cabaf876"
      },
      "execution_count": null,
      "outputs": [
        {
          "output_type": "stream",
          "name": "stdout",
          "text": [
            "<class 'pandas.core.frame.DataFrame'>\n",
            "RangeIndex: 703 entries, 0 to 702\n",
            "Data columns (total 10 columns):\n",
            " #   Column              Non-Null Count  Dtype  \n",
            "---  ------              --------------  -----  \n",
            " 0   Date                703 non-null    object \n",
            " 1   Hospitalizations    703 non-null    int64  \n",
            " 2   New Cases Reported  703 non-null    int64  \n",
            " 3   Cases               703 non-null    int64  \n",
            " 4   Vaccines            407 non-null    float64\n",
            " 5   Deaths              703 non-null    int64  \n",
            " 6   new_hosp            702 non-null    float64\n",
            " 7   new_vac             406 non-null    float64\n",
            " 8   new_deaths          702 non-null    float64\n",
            " 9   Time                703 non-null    int64  \n",
            "dtypes: float64(4), int64(5), object(1)\n",
            "memory usage: 55.0+ KB\n"
          ]
        }
      ]
    },
    {
      "cell_type": "code",
      "source": [
        "data = data.fillna(0)\n",
        "data.info()"
      ],
      "metadata": {
        "colab": {
          "base_uri": "https://localhost:8080/"
        },
        "id": "Y8aja36hiPuf",
        "outputId": "a7b6e865-5140-4ba8-e84d-4b76dabc2e9a"
      },
      "execution_count": null,
      "outputs": [
        {
          "output_type": "stream",
          "name": "stdout",
          "text": [
            "<class 'pandas.core.frame.DataFrame'>\n",
            "RangeIndex: 703 entries, 0 to 702\n",
            "Data columns (total 10 columns):\n",
            " #   Column              Non-Null Count  Dtype  \n",
            "---  ------              --------------  -----  \n",
            " 0   Date                703 non-null    object \n",
            " 1   Hospitalizations    703 non-null    int64  \n",
            " 2   New Cases Reported  703 non-null    int64  \n",
            " 3   Cases               703 non-null    int64  \n",
            " 4   Vaccines            703 non-null    float64\n",
            " 5   Deaths              703 non-null    int64  \n",
            " 6   new_hosp            703 non-null    float64\n",
            " 7   new_vac             703 non-null    float64\n",
            " 8   new_deaths          703 non-null    float64\n",
            " 9   Time                703 non-null    int64  \n",
            "dtypes: float64(4), int64(5), object(1)\n",
            "memory usage: 55.0+ KB\n"
          ]
        }
      ]
    },
    {
      "cell_type": "code",
      "source": [
        "data.head(15)"
      ],
      "metadata": {
        "colab": {
          "base_uri": "https://localhost:8080/",
          "height": 520
        },
        "id": "u6u-CzvhoVDT",
        "outputId": "6520c8b4-3102-42fa-de06-49e03401b5c6"
      },
      "execution_count": null,
      "outputs": [
        {
          "output_type": "execute_result",
          "data": {
            "text/html": [
              "\n",
              "  <div id=\"df-43ae86c9-edfa-4df7-bc4b-3659ef7bb543\">\n",
              "    <div class=\"colab-df-container\">\n",
              "      <div>\n",
              "<style scoped>\n",
              "    .dataframe tbody tr th:only-of-type {\n",
              "        vertical-align: middle;\n",
              "    }\n",
              "\n",
              "    .dataframe tbody tr th {\n",
              "        vertical-align: top;\n",
              "    }\n",
              "\n",
              "    .dataframe thead th {\n",
              "        text-align: right;\n",
              "    }\n",
              "</style>\n",
              "<table border=\"1\" class=\"dataframe\">\n",
              "  <thead>\n",
              "    <tr style=\"text-align: right;\">\n",
              "      <th></th>\n",
              "      <th>Date</th>\n",
              "      <th>Hospitalizations</th>\n",
              "      <th>New Cases Reported</th>\n",
              "      <th>Cases</th>\n",
              "      <th>Vaccines</th>\n",
              "      <th>Deaths</th>\n",
              "      <th>new_hosp</th>\n",
              "      <th>new_vac</th>\n",
              "      <th>new_deaths</th>\n",
              "      <th>Time</th>\n",
              "    </tr>\n",
              "  </thead>\n",
              "  <tbody>\n",
              "    <tr>\n",
              "      <th>0</th>\n",
              "      <td>2/25/2020</td>\n",
              "      <td>1092</td>\n",
              "      <td>0</td>\n",
              "      <td>1</td>\n",
              "      <td>0.0</td>\n",
              "      <td>2</td>\n",
              "      <td>0.0</td>\n",
              "      <td>0.0</td>\n",
              "      <td>0.0</td>\n",
              "      <td>0</td>\n",
              "    </tr>\n",
              "    <tr>\n",
              "      <th>1</th>\n",
              "      <td>2/26/2020</td>\n",
              "      <td>1094</td>\n",
              "      <td>0</td>\n",
              "      <td>1</td>\n",
              "      <td>0.0</td>\n",
              "      <td>4</td>\n",
              "      <td>2.0</td>\n",
              "      <td>0.0</td>\n",
              "      <td>2.0</td>\n",
              "      <td>1</td>\n",
              "    </tr>\n",
              "    <tr>\n",
              "      <th>2</th>\n",
              "      <td>2/27/2020</td>\n",
              "      <td>1105</td>\n",
              "      <td>0</td>\n",
              "      <td>1</td>\n",
              "      <td>0.0</td>\n",
              "      <td>4</td>\n",
              "      <td>11.0</td>\n",
              "      <td>0.0</td>\n",
              "      <td>0.0</td>\n",
              "      <td>2</td>\n",
              "    </tr>\n",
              "    <tr>\n",
              "      <th>3</th>\n",
              "      <td>2/28/2020</td>\n",
              "      <td>1114</td>\n",
              "      <td>0</td>\n",
              "      <td>1</td>\n",
              "      <td>0.0</td>\n",
              "      <td>6</td>\n",
              "      <td>9.0</td>\n",
              "      <td>0.0</td>\n",
              "      <td>2.0</td>\n",
              "      <td>3</td>\n",
              "    </tr>\n",
              "    <tr>\n",
              "      <th>4</th>\n",
              "      <td>2/29/2020</td>\n",
              "      <td>1121</td>\n",
              "      <td>0</td>\n",
              "      <td>1</td>\n",
              "      <td>0.0</td>\n",
              "      <td>7</td>\n",
              "      <td>7.0</td>\n",
              "      <td>0.0</td>\n",
              "      <td>1.0</td>\n",
              "      <td>4</td>\n",
              "    </tr>\n",
              "    <tr>\n",
              "      <th>5</th>\n",
              "      <td>3/1/2020</td>\n",
              "      <td>1129</td>\n",
              "      <td>0</td>\n",
              "      <td>1</td>\n",
              "      <td>0.0</td>\n",
              "      <td>10</td>\n",
              "      <td>8.0</td>\n",
              "      <td>0.0</td>\n",
              "      <td>3.0</td>\n",
              "      <td>5</td>\n",
              "    </tr>\n",
              "    <tr>\n",
              "      <th>6</th>\n",
              "      <td>3/2/2020</td>\n",
              "      <td>1150</td>\n",
              "      <td>13</td>\n",
              "      <td>14</td>\n",
              "      <td>0.0</td>\n",
              "      <td>13</td>\n",
              "      <td>21.0</td>\n",
              "      <td>0.0</td>\n",
              "      <td>3.0</td>\n",
              "      <td>6</td>\n",
              "    </tr>\n",
              "    <tr>\n",
              "      <th>7</th>\n",
              "      <td>3/3/2020</td>\n",
              "      <td>1162</td>\n",
              "      <td>16</td>\n",
              "      <td>30</td>\n",
              "      <td>0.0</td>\n",
              "      <td>16</td>\n",
              "      <td>12.0</td>\n",
              "      <td>0.0</td>\n",
              "      <td>3.0</td>\n",
              "      <td>7</td>\n",
              "    </tr>\n",
              "    <tr>\n",
              "      <th>8</th>\n",
              "      <td>3/4/2020</td>\n",
              "      <td>1176</td>\n",
              "      <td>15</td>\n",
              "      <td>45</td>\n",
              "      <td>0.0</td>\n",
              "      <td>18</td>\n",
              "      <td>14.0</td>\n",
              "      <td>0.0</td>\n",
              "      <td>2.0</td>\n",
              "      <td>8</td>\n",
              "    </tr>\n",
              "    <tr>\n",
              "      <th>9</th>\n",
              "      <td>3/5/2020</td>\n",
              "      <td>1203</td>\n",
              "      <td>21</td>\n",
              "      <td>66</td>\n",
              "      <td>0.0</td>\n",
              "      <td>23</td>\n",
              "      <td>27.0</td>\n",
              "      <td>0.0</td>\n",
              "      <td>5.0</td>\n",
              "      <td>9</td>\n",
              "    </tr>\n",
              "    <tr>\n",
              "      <th>10</th>\n",
              "      <td>3/6/2020</td>\n",
              "      <td>1226</td>\n",
              "      <td>18</td>\n",
              "      <td>84</td>\n",
              "      <td>0.0</td>\n",
              "      <td>27</td>\n",
              "      <td>23.0</td>\n",
              "      <td>0.0</td>\n",
              "      <td>4.0</td>\n",
              "      <td>10</td>\n",
              "    </tr>\n",
              "    <tr>\n",
              "      <th>11</th>\n",
              "      <td>3/7/2020</td>\n",
              "      <td>1245</td>\n",
              "      <td>29</td>\n",
              "      <td>113</td>\n",
              "      <td>0.0</td>\n",
              "      <td>28</td>\n",
              "      <td>19.0</td>\n",
              "      <td>0.0</td>\n",
              "      <td>1.0</td>\n",
              "      <td>11</td>\n",
              "    </tr>\n",
              "    <tr>\n",
              "      <th>12</th>\n",
              "      <td>3/8/2020</td>\n",
              "      <td>1263</td>\n",
              "      <td>41</td>\n",
              "      <td>154</td>\n",
              "      <td>0.0</td>\n",
              "      <td>33</td>\n",
              "      <td>18.0</td>\n",
              "      <td>0.0</td>\n",
              "      <td>5.0</td>\n",
              "      <td>12</td>\n",
              "    </tr>\n",
              "    <tr>\n",
              "      <th>13</th>\n",
              "      <td>3/9/2020</td>\n",
              "      <td>1288</td>\n",
              "      <td>90</td>\n",
              "      <td>244</td>\n",
              "      <td>0.0</td>\n",
              "      <td>37</td>\n",
              "      <td>25.0</td>\n",
              "      <td>0.0</td>\n",
              "      <td>4.0</td>\n",
              "      <td>13</td>\n",
              "    </tr>\n",
              "    <tr>\n",
              "      <th>14</th>\n",
              "      <td>3/10/2020</td>\n",
              "      <td>1318</td>\n",
              "      <td>69</td>\n",
              "      <td>313</td>\n",
              "      <td>0.0</td>\n",
              "      <td>40</td>\n",
              "      <td>30.0</td>\n",
              "      <td>0.0</td>\n",
              "      <td>3.0</td>\n",
              "      <td>14</td>\n",
              "    </tr>\n",
              "  </tbody>\n",
              "</table>\n",
              "</div>\n",
              "      <button class=\"colab-df-convert\" onclick=\"convertToInteractive('df-43ae86c9-edfa-4df7-bc4b-3659ef7bb543')\"\n",
              "              title=\"Convert this dataframe to an interactive table.\"\n",
              "              style=\"display:none;\">\n",
              "        \n",
              "  <svg xmlns=\"http://www.w3.org/2000/svg\" height=\"24px\"viewBox=\"0 0 24 24\"\n",
              "       width=\"24px\">\n",
              "    <path d=\"M0 0h24v24H0V0z\" fill=\"none\"/>\n",
              "    <path d=\"M18.56 5.44l.94 2.06.94-2.06 2.06-.94-2.06-.94-.94-2.06-.94 2.06-2.06.94zm-11 1L8.5 8.5l.94-2.06 2.06-.94-2.06-.94L8.5 2.5l-.94 2.06-2.06.94zm10 10l.94 2.06.94-2.06 2.06-.94-2.06-.94-.94-2.06-.94 2.06-2.06.94z\"/><path d=\"M17.41 7.96l-1.37-1.37c-.4-.4-.92-.59-1.43-.59-.52 0-1.04.2-1.43.59L10.3 9.45l-7.72 7.72c-.78.78-.78 2.05 0 2.83L4 21.41c.39.39.9.59 1.41.59.51 0 1.02-.2 1.41-.59l7.78-7.78 2.81-2.81c.8-.78.8-2.07 0-2.86zM5.41 20L4 18.59l7.72-7.72 1.47 1.35L5.41 20z\"/>\n",
              "  </svg>\n",
              "      </button>\n",
              "      \n",
              "  <style>\n",
              "    .colab-df-container {\n",
              "      display:flex;\n",
              "      flex-wrap:wrap;\n",
              "      gap: 12px;\n",
              "    }\n",
              "\n",
              "    .colab-df-convert {\n",
              "      background-color: #E8F0FE;\n",
              "      border: none;\n",
              "      border-radius: 50%;\n",
              "      cursor: pointer;\n",
              "      display: none;\n",
              "      fill: #1967D2;\n",
              "      height: 32px;\n",
              "      padding: 0 0 0 0;\n",
              "      width: 32px;\n",
              "    }\n",
              "\n",
              "    .colab-df-convert:hover {\n",
              "      background-color: #E2EBFA;\n",
              "      box-shadow: 0px 1px 2px rgba(60, 64, 67, 0.3), 0px 1px 3px 1px rgba(60, 64, 67, 0.15);\n",
              "      fill: #174EA6;\n",
              "    }\n",
              "\n",
              "    [theme=dark] .colab-df-convert {\n",
              "      background-color: #3B4455;\n",
              "      fill: #D2E3FC;\n",
              "    }\n",
              "\n",
              "    [theme=dark] .colab-df-convert:hover {\n",
              "      background-color: #434B5C;\n",
              "      box-shadow: 0px 1px 3px 1px rgba(0, 0, 0, 0.15);\n",
              "      filter: drop-shadow(0px 1px 2px rgba(0, 0, 0, 0.3));\n",
              "      fill: #FFFFFF;\n",
              "    }\n",
              "  </style>\n",
              "\n",
              "      <script>\n",
              "        const buttonEl =\n",
              "          document.querySelector('#df-43ae86c9-edfa-4df7-bc4b-3659ef7bb543 button.colab-df-convert');\n",
              "        buttonEl.style.display =\n",
              "          google.colab.kernel.accessAllowed ? 'block' : 'none';\n",
              "\n",
              "        async function convertToInteractive(key) {\n",
              "          const element = document.querySelector('#df-43ae86c9-edfa-4df7-bc4b-3659ef7bb543');\n",
              "          const dataTable =\n",
              "            await google.colab.kernel.invokeFunction('convertToInteractive',\n",
              "                                                     [key], {});\n",
              "          if (!dataTable) return;\n",
              "\n",
              "          const docLinkHtml = 'Like what you see? Visit the ' +\n",
              "            '<a target=\"_blank\" href=https://colab.research.google.com/notebooks/data_table.ipynb>data table notebook</a>'\n",
              "            + ' to learn more about interactive tables.';\n",
              "          element.innerHTML = '';\n",
              "          dataTable['output_type'] = 'display_data';\n",
              "          await google.colab.output.renderOutput(dataTable, element);\n",
              "          const docLink = document.createElement('div');\n",
              "          docLink.innerHTML = docLinkHtml;\n",
              "          element.appendChild(docLink);\n",
              "        }\n",
              "      </script>\n",
              "    </div>\n",
              "  </div>\n",
              "  "
            ],
            "text/plain": [
              "         Date  Hospitalizations  New Cases Reported  Cases  Vaccines  Deaths  \\\n",
              "0   2/25/2020              1092                   0      1       0.0       2   \n",
              "1   2/26/2020              1094                   0      1       0.0       4   \n",
              "2   2/27/2020              1105                   0      1       0.0       4   \n",
              "3   2/28/2020              1114                   0      1       0.0       6   \n",
              "4   2/29/2020              1121                   0      1       0.0       7   \n",
              "5    3/1/2020              1129                   0      1       0.0      10   \n",
              "6    3/2/2020              1150                  13     14       0.0      13   \n",
              "7    3/3/2020              1162                  16     30       0.0      16   \n",
              "8    3/4/2020              1176                  15     45       0.0      18   \n",
              "9    3/5/2020              1203                  21     66       0.0      23   \n",
              "10   3/6/2020              1226                  18     84       0.0      27   \n",
              "11   3/7/2020              1245                  29    113       0.0      28   \n",
              "12   3/8/2020              1263                  41    154       0.0      33   \n",
              "13   3/9/2020              1288                  90    244       0.0      37   \n",
              "14  3/10/2020              1318                  69    313       0.0      40   \n",
              "\n",
              "    new_hosp  new_vac  new_deaths  Time  \n",
              "0        0.0      0.0         0.0     0  \n",
              "1        2.0      0.0         2.0     1  \n",
              "2       11.0      0.0         0.0     2  \n",
              "3        9.0      0.0         2.0     3  \n",
              "4        7.0      0.0         1.0     4  \n",
              "5        8.0      0.0         3.0     5  \n",
              "6       21.0      0.0         3.0     6  \n",
              "7       12.0      0.0         3.0     7  \n",
              "8       14.0      0.0         2.0     8  \n",
              "9       27.0      0.0         5.0     9  \n",
              "10      23.0      0.0         4.0    10  \n",
              "11      19.0      0.0         1.0    11  \n",
              "12      18.0      0.0         5.0    12  \n",
              "13      25.0      0.0         4.0    13  \n",
              "14      30.0      0.0         3.0    14  "
            ]
          },
          "metadata": {},
          "execution_count": 2326
        }
      ]
    },
    {
      "cell_type": "markdown",
      "source": [
        "# Data Exploration"
      ],
      "metadata": {
        "id": "cwmmsYPYqUqi"
      }
    },
    {
      "cell_type": "code",
      "source": [
        "data.describe()"
      ],
      "metadata": {
        "colab": {
          "base_uri": "https://localhost:8080/"
        },
        "id": "zMONfBedtDVL",
        "outputId": "d520f53a-fbb4-4c29-a0e4-ba87432161e3"
      },
      "execution_count": null,
      "outputs": [
        {
          "output_type": "execute_result",
          "data": {
            "text/html": [
              "\n",
              "  <div id=\"df-f70abeb9-073f-463b-b5a7-3089dbe428c4\">\n",
              "    <div class=\"colab-df-container\">\n",
              "      <div>\n",
              "<style scoped>\n",
              "    .dataframe tbody tr th:only-of-type {\n",
              "        vertical-align: middle;\n",
              "    }\n",
              "\n",
              "    .dataframe tbody tr th {\n",
              "        vertical-align: top;\n",
              "    }\n",
              "\n",
              "    .dataframe thead th {\n",
              "        text-align: right;\n",
              "    }\n",
              "</style>\n",
              "<table border=\"1\" class=\"dataframe\">\n",
              "  <thead>\n",
              "    <tr style=\"text-align: right;\">\n",
              "      <th></th>\n",
              "      <th>Hospitalizations</th>\n",
              "      <th>New Cases Reported</th>\n",
              "      <th>Cases</th>\n",
              "      <th>Vaccines</th>\n",
              "      <th>Deaths</th>\n",
              "      <th>new_hosp</th>\n",
              "      <th>new_vac</th>\n",
              "      <th>new_deaths</th>\n",
              "      <th>Time</th>\n",
              "    </tr>\n",
              "  </thead>\n",
              "  <tbody>\n",
              "    <tr>\n",
              "      <th>count</th>\n",
              "      <td>703.000000</td>\n",
              "      <td>703.000000</td>\n",
              "      <td>7.030000e+02</td>\n",
              "      <td>7.030000e+02</td>\n",
              "      <td>703.000000</td>\n",
              "      <td>703.000000</td>\n",
              "      <td>703.000000</td>\n",
              "      <td>703.000000</td>\n",
              "      <td>703.000000</td>\n",
              "    </tr>\n",
              "    <tr>\n",
              "      <th>mean</th>\n",
              "      <td>20034.984353</td>\n",
              "      <td>1841.389758</td>\n",
              "      <td>3.348000e+05</td>\n",
              "      <td>3.939406e+06</td>\n",
              "      <td>4523.671408</td>\n",
              "      <td>73.863442</td>\n",
              "      <td>17954.691323</td>\n",
              "      <td>15.216216</td>\n",
              "      <td>351.000000</td>\n",
              "    </tr>\n",
              "    <tr>\n",
              "      <th>std</th>\n",
              "      <td>14123.885448</td>\n",
              "      <td>3257.851156</td>\n",
              "      <td>2.900508e+05</td>\n",
              "      <td>4.450399e+06</td>\n",
              "      <td>3055.390423</td>\n",
              "      <td>57.055515</td>\n",
              "      <td>22558.748645</td>\n",
              "      <td>10.666075</td>\n",
              "      <td>203.082906</td>\n",
              "    </tr>\n",
              "    <tr>\n",
              "      <th>min</th>\n",
              "      <td>1092.000000</td>\n",
              "      <td>0.000000</td>\n",
              "      <td>1.000000e+00</td>\n",
              "      <td>0.000000e+00</td>\n",
              "      <td>2.000000</td>\n",
              "      <td>0.000000</td>\n",
              "      <td>0.000000</td>\n",
              "      <td>0.000000</td>\n",
              "      <td>0.000000</td>\n",
              "    </tr>\n",
              "    <tr>\n",
              "      <th>25%</th>\n",
              "      <td>7429.500000</td>\n",
              "      <td>470.500000</td>\n",
              "      <td>6.905400e+04</td>\n",
              "      <td>0.000000e+00</td>\n",
              "      <td>1809.500000</td>\n",
              "      <td>34.000000</td>\n",
              "      <td>0.000000</td>\n",
              "      <td>7.000000</td>\n",
              "      <td>175.500000</td>\n",
              "    </tr>\n",
              "    <tr>\n",
              "      <th>50%</th>\n",
              "      <td>19244.000000</td>\n",
              "      <td>912.000000</td>\n",
              "      <td>3.250510e+05</td>\n",
              "      <td>1.075985e+06</td>\n",
              "      <td>4807.000000</td>\n",
              "      <td>54.000000</td>\n",
              "      <td>9899.000000</td>\n",
              "      <td>12.000000</td>\n",
              "      <td>351.000000</td>\n",
              "    </tr>\n",
              "    <tr>\n",
              "      <th>75%</th>\n",
              "      <td>28215.500000</td>\n",
              "      <td>1981.000000</td>\n",
              "      <td>4.867350e+05</td>\n",
              "      <td>8.280368e+06</td>\n",
              "      <td>6250.500000</td>\n",
              "      <td>99.000000</td>\n",
              "      <td>30096.000000</td>\n",
              "      <td>21.000000</td>\n",
              "      <td>526.500000</td>\n",
              "    </tr>\n",
              "    <tr>\n",
              "      <th>max</th>\n",
              "      <td>53018.000000</td>\n",
              "      <td>39227.000000</td>\n",
              "      <td>1.294498e+06</td>\n",
              "      <td>1.262217e+07</td>\n",
              "      <td>10699.000000</td>\n",
              "      <td>339.000000</td>\n",
              "      <td>92611.000000</td>\n",
              "      <td>53.000000</td>\n",
              "      <td>702.000000</td>\n",
              "    </tr>\n",
              "  </tbody>\n",
              "</table>\n",
              "</div>\n",
              "      <button class=\"colab-df-convert\" onclick=\"convertToInteractive('df-f70abeb9-073f-463b-b5a7-3089dbe428c4')\"\n",
              "              title=\"Convert this dataframe to an interactive table.\"\n",
              "              style=\"display:none;\">\n",
              "        \n",
              "  <svg xmlns=\"http://www.w3.org/2000/svg\" height=\"24px\"viewBox=\"0 0 24 24\"\n",
              "       width=\"24px\">\n",
              "    <path d=\"M0 0h24v24H0V0z\" fill=\"none\"/>\n",
              "    <path d=\"M18.56 5.44l.94 2.06.94-2.06 2.06-.94-2.06-.94-.94-2.06-.94 2.06-2.06.94zm-11 1L8.5 8.5l.94-2.06 2.06-.94-2.06-.94L8.5 2.5l-.94 2.06-2.06.94zm10 10l.94 2.06.94-2.06 2.06-.94-2.06-.94-.94-2.06-.94 2.06-2.06.94z\"/><path d=\"M17.41 7.96l-1.37-1.37c-.4-.4-.92-.59-1.43-.59-.52 0-1.04.2-1.43.59L10.3 9.45l-7.72 7.72c-.78.78-.78 2.05 0 2.83L4 21.41c.39.39.9.59 1.41.59.51 0 1.02-.2 1.41-.59l7.78-7.78 2.81-2.81c.8-.78.8-2.07 0-2.86zM5.41 20L4 18.59l7.72-7.72 1.47 1.35L5.41 20z\"/>\n",
              "  </svg>\n",
              "      </button>\n",
              "      \n",
              "  <style>\n",
              "    .colab-df-container {\n",
              "      display:flex;\n",
              "      flex-wrap:wrap;\n",
              "      gap: 12px;\n",
              "    }\n",
              "\n",
              "    .colab-df-convert {\n",
              "      background-color: #E8F0FE;\n",
              "      border: none;\n",
              "      border-radius: 50%;\n",
              "      cursor: pointer;\n",
              "      display: none;\n",
              "      fill: #1967D2;\n",
              "      height: 32px;\n",
              "      padding: 0 0 0 0;\n",
              "      width: 32px;\n",
              "    }\n",
              "\n",
              "    .colab-df-convert:hover {\n",
              "      background-color: #E2EBFA;\n",
              "      box-shadow: 0px 1px 2px rgba(60, 64, 67, 0.3), 0px 1px 3px 1px rgba(60, 64, 67, 0.15);\n",
              "      fill: #174EA6;\n",
              "    }\n",
              "\n",
              "    [theme=dark] .colab-df-convert {\n",
              "      background-color: #3B4455;\n",
              "      fill: #D2E3FC;\n",
              "    }\n",
              "\n",
              "    [theme=dark] .colab-df-convert:hover {\n",
              "      background-color: #434B5C;\n",
              "      box-shadow: 0px 1px 3px 1px rgba(0, 0, 0, 0.15);\n",
              "      filter: drop-shadow(0px 1px 2px rgba(0, 0, 0, 0.3));\n",
              "      fill: #FFFFFF;\n",
              "    }\n",
              "  </style>\n",
              "\n",
              "      <script>\n",
              "        const buttonEl =\n",
              "          document.querySelector('#df-f70abeb9-073f-463b-b5a7-3089dbe428c4 button.colab-df-convert');\n",
              "        buttonEl.style.display =\n",
              "          google.colab.kernel.accessAllowed ? 'block' : 'none';\n",
              "\n",
              "        async function convertToInteractive(key) {\n",
              "          const element = document.querySelector('#df-f70abeb9-073f-463b-b5a7-3089dbe428c4');\n",
              "          const dataTable =\n",
              "            await google.colab.kernel.invokeFunction('convertToInteractive',\n",
              "                                                     [key], {});\n",
              "          if (!dataTable) return;\n",
              "\n",
              "          const docLinkHtml = 'Like what you see? Visit the ' +\n",
              "            '<a target=\"_blank\" href=https://colab.research.google.com/notebooks/data_table.ipynb>data table notebook</a>'\n",
              "            + ' to learn more about interactive tables.';\n",
              "          element.innerHTML = '';\n",
              "          dataTable['output_type'] = 'display_data';\n",
              "          await google.colab.output.renderOutput(dataTable, element);\n",
              "          const docLink = document.createElement('div');\n",
              "          docLink.innerHTML = docLinkHtml;\n",
              "          element.appendChild(docLink);\n",
              "        }\n",
              "      </script>\n",
              "    </div>\n",
              "  </div>\n",
              "  "
            ],
            "text/plain": [
              "       Hospitalizations  New Cases Reported         Cases      Vaccines  \\\n",
              "count        703.000000          703.000000  7.030000e+02  7.030000e+02   \n",
              "mean       20034.984353         1841.389758  3.348000e+05  3.939406e+06   \n",
              "std        14123.885448         3257.851156  2.900508e+05  4.450399e+06   \n",
              "min         1092.000000            0.000000  1.000000e+00  0.000000e+00   \n",
              "25%         7429.500000          470.500000  6.905400e+04  0.000000e+00   \n",
              "50%        19244.000000          912.000000  3.250510e+05  1.075985e+06   \n",
              "75%        28215.500000         1981.000000  4.867350e+05  8.280368e+06   \n",
              "max        53018.000000        39227.000000  1.294498e+06  1.262217e+07   \n",
              "\n",
              "             Deaths    new_hosp       new_vac  new_deaths        Time  \n",
              "count    703.000000  703.000000    703.000000  703.000000  703.000000  \n",
              "mean    4523.671408   73.863442  17954.691323   15.216216  351.000000  \n",
              "std     3055.390423   57.055515  22558.748645   10.666075  203.082906  \n",
              "min        2.000000    0.000000      0.000000    0.000000    0.000000  \n",
              "25%     1809.500000   34.000000      0.000000    7.000000  175.500000  \n",
              "50%     4807.000000   54.000000   9899.000000   12.000000  351.000000  \n",
              "75%     6250.500000   99.000000  30096.000000   21.000000  526.500000  \n",
              "max    10699.000000  339.000000  92611.000000   53.000000  702.000000  "
            ]
          },
          "metadata": {},
          "execution_count": 217
        }
      ]
    },
    {
      "cell_type": "code",
      "source": [
        "plt.figure(figsize=(6,6))\n",
        "plt.scatter(data['Time'], data['new_hosp'], color='red', s = 4)\n",
        "plt.title('Daily Hospitalizations', fontsize=14)\n",
        "plt.xlabel('Days Since Start', fontsize=14)\n",
        "plt.ylabel('# of Hospitalizations', fontsize=14)\n",
        "plt.grid(True)\n",
        "plt.show()"
      ],
      "metadata": {
        "colab": {
          "base_uri": "https://localhost:8080/"
        },
        "id": "ZTcbDQgKqXMK",
        "outputId": "475e9d33-05a5-4841-ad56-91a0eaf99256"
      },
      "execution_count": null,
      "outputs": [
        {
          "output_type": "display_data",
          "data": {
            "image/png": "[encoded data removed]",
            "text/plain": [
              "<Figure size 432x432 with 1 Axes>"
            ]
          },
          "metadata": {}
        }
      ]
    },
    {
      "cell_type": "code",
      "source": [
        "plt.figure(figsize=(6,6))\n",
        "plt.scatter(data['new_hosp'], data['Hospitalizations'], color='red', s = 4)\n",
        "plt.title('Daily Hospitalizations', fontsize=14)\n",
        "plt.xlabel('Days Since Start', fontsize=14)\n",
        "plt.ylabel('# of Hospitalizations', fontsize=14)\n",
        "plt.grid(True)\n",
        "plt.show()"
      ],
      "metadata": {
        "colab": {
          "base_uri": "https://localhost:8080/"
        },
        "id": "ivIkcNKs73cN",
        "outputId": "660bb6cf-1847-40b0-b465-78c957d7baaa"
      },
      "execution_count": null,
      "outputs": [
        {
          "output_type": "display_data",
          "data": {
            "image/png": "[encoded data removed]",
            "text/plain": [
              "<Figure size 432x432 with 1 Axes>"
            ]
          },
          "metadata": {}
        }
      ]
    },
    {
      "cell_type": "code",
      "source": [
        "plt.figure(figsize=(6,6))\n",
        "plt.scatter(data['Time'], data['New Cases Reported'], color='red', s= 4)\n",
        "plt.title('Daily Cases', fontsize=14)\n",
        "plt.xlabel('Days Since Start', fontsize=14)\n",
        "plt.ylabel('# of Cases', fontsize=14)\n",
        "plt.grid(True)\n",
        "plt.show()"
      ],
      "metadata": {
        "colab": {
          "base_uri": "https://localhost:8080/"
        },
        "id": "mebXbzcVrjWy",
        "outputId": "bd669c08-ef0a-4c62-cc19-4620ad9395b3"
      },
      "execution_count": null,
      "outputs": [
        {
          "output_type": "display_data",
          "data": {
            "image/png": "[encoded data removed]",
            "text/plain": [
              "<Figure size 432x432 with 1 Axes>"
            ]
          },
          "metadata": {}
        }
      ]
    },
    {
      "cell_type": "code",
      "source": [
        "plt.figure(figsize=(6,6))\n",
        "plt.scatter(data['Time'], data['new_deaths'], color='red', s = 4)\n",
        "plt.title('Daily Deaths', fontsize=14)\n",
        "plt.xlabel('Days Since Start', fontsize=14)\n",
        "plt.ylabel('# of Deaths', fontsize=14)\n",
        "plt.grid(True)\n",
        "plt.show()"
      ],
      "metadata": {
        "colab": {
          "base_uri": "https://localhost:8080/"
        },
        "id": "CMvX4AxArqw4",
        "outputId": "fa04918e-f06c-4538-fa2d-33b8d42e2c0d"
      },
      "execution_count": null,
      "outputs": [
        {
          "output_type": "display_data",
          "data": {
            "image/png": "[encoded data removed]",
            "text/plain": [
              "<Figure size 432x432 with 1 Axes>"
            ]
          },
          "metadata": {}
        }
      ]
    },
    {
      "cell_type": "code",
      "source": [
        "plt.figure(figsize=(6,6))\n",
        "plt.scatter(data['Time'], data['new_vac'], color='red', s = 4)\n",
        "plt.title('Daily Vaccinations', fontsize=14)\n",
        "plt.xlabel('Days Since Start', fontsize=14)\n",
        "plt.ylabel('# of Vaccinations', fontsize=14)\n",
        "plt.grid(True)\n",
        "plt.ylim(0,100000)\n",
        "plt.show()"
      ],
      "metadata": {
        "colab": {
          "base_uri": "https://localhost:8080/"
        },
        "id": "x88Cy_8esrls",
        "outputId": "9239ae4e-e50f-4c49-ec98-351480588501"
      },
      "execution_count": null,
      "outputs": [
        {
          "output_type": "display_data",
          "data": {
            "image/png": "[encoded data removed]",
            "text/plain": [
              "<Figure size 432x432 with 1 Axes>"
            ]
          },
          "metadata": {}
        }
      ]
    },
    {
      "cell_type": "markdown",
      "source": [
        "# Linear Regression"
      ],
      "metadata": {
        "id": "xgG9k8Fl_a0V"
      }
    },
    {
      "cell_type": "markdown",
      "source": [
        "To estimate the initial covariance"
      ],
      "metadata": {
        "id": "DZQSsNVd_fFr"
      }
    },
    {
      "cell_type": "code",
      "source": [
        "X = data[['new_hosp']]\n",
        "Y = data[['Hospitalizations']]\n",
        "\n",
        "x_train, x_test,y_train,y_test = train_test_split(X,Y,test_size =0.2)"
      ],
      "metadata": {
        "id": "cK89oyIV_mPj"
      },
      "execution_count": null,
      "outputs": []
    },
    {
      "cell_type": "code",
      "source": [
        "reg = linear_model.LinearRegression()\n",
        "reg.fit(x_train,y_train)\n",
        "\n",
        "print('Intercept: \\n', reg.intercept_)\n",
        "print('Coefficients: \\n', reg.coef_)"
      ],
      "metadata": {
        "colab": {
          "base_uri": "https://localhost:8080/"
        },
        "id": "Vk2aG4x9_nb7",
        "outputId": "797ff541-148e-48ea-e5c3-5510f9ad0819"
      },
      "execution_count": null,
      "outputs": [
        {
          "output_type": "stream",
          "name": "stdout",
          "text": [
            "Intercept: \n",
            " [8244.87443514]\n",
            "Coefficients: \n",
            " [[159.07261251]]\n"
          ]
        }
      ]
    },
    {
      "cell_type": "code",
      "source": [
        "reg.score(x_train,y_train)"
      ],
      "metadata": {
        "colab": {
          "base_uri": "https://localhost:8080/"
        },
        "id": "7qd08h-y_wQC",
        "outputId": "95d8b507-72f0-49f1-ee7f-deb97bfc85f9"
      },
      "execution_count": null,
      "outputs": [
        {
          "output_type": "execute_result",
          "data": {
            "text/plain": [
              "0.4295770614590769"
            ]
          },
          "metadata": {},
          "execution_count": 2640
        }
      ]
    },
    {
      "cell_type": "code",
      "source": [
        "reg.score(x_test,y_test)"
      ],
      "metadata": {
        "colab": {
          "base_uri": "https://localhost:8080/"
        },
        "id": "KjtKQ9bs_zUS",
        "outputId": "8d0311b9-bd86-42b6-c22c-0a4274407e62"
      },
      "execution_count": null,
      "outputs": [
        {
          "output_type": "execute_result",
          "data": {
            "text/plain": [
              "0.38840852465096243"
            ]
          },
          "metadata": {},
          "execution_count": 2641
        }
      ]
    },
    {
      "cell_type": "code",
      "source": [
        "np.cov(data['new_hosp'], data['Hospitalizations'])"
      ],
      "metadata": {
        "colab": {
          "base_uri": "https://localhost:8080/"
        },
        "id": "B2vtSM9QFnSh",
        "outputId": "072a7cad-8c42-4917-adf1-d06ade84d020"
      },
      "execution_count": null,
      "outputs": [
        {
          "output_type": "execute_result",
          "data": {
            "text/plain": [
              "array([[3.25533175e+03, 5.23620613e+05],\n",
              "       [5.23620613e+05, 1.99484140e+08]])"
            ]
          },
          "metadata": {},
          "execution_count": 2642
        }
      ]
    },
    {
      "cell_type": "markdown",
      "source": [
        "To estimate the obsveration noise std"
      ],
      "metadata": {
        "id": "AKA6oq9DBT8s"
      }
    },
    {
      "cell_type": "code",
      "source": [
        "X = data[['Time']]\n",
        "Y = data[['Hospitalizations']]\n",
        "\n",
        "x_train, x_test,y_train,y_test = train_test_split(X,Y,test_size =0.2)"
      ],
      "metadata": {
        "id": "vqhJJjK-Be_s"
      },
      "execution_count": null,
      "outputs": []
    },
    {
      "cell_type": "code",
      "source": [
        "reg = linear_model.LinearRegression()\n",
        "reg.fit(x_train,y_train)\n",
        "\n",
        "print('Intercept: \\n', reg.intercept_)\n",
        "print('Coefficients: \\n', reg.coef_)"
      ],
      "metadata": {
        "colab": {
          "base_uri": "https://localhost:8080/"
        },
        "id": "m_3Z2eCyCT_z",
        "outputId": "6f85a02d-640b-4a2d-cf44-d7e273414a3d"
      },
      "execution_count": null,
      "outputs": [
        {
          "output_type": "stream",
          "name": "stdout",
          "text": [
            "Intercept: \n",
            " [-3837.84767031]\n",
            "Coefficients: \n",
            " [[67.95391667]]\n"
          ]
        }
      ]
    },
    {
      "cell_type": "code",
      "source": [
        "prediction = reg.predict(x_test)\n",
        "residual1 = (y_test - prediction)"
      ],
      "metadata": {
        "id": "hjZsJN2VCWMr"
      },
      "execution_count": null,
      "outputs": []
    },
    {
      "cell_type": "code",
      "source": [
        "np.std(residual)"
      ],
      "metadata": {
        "colab": {
          "base_uri": "https://localhost:8080/"
        },
        "id": "CDYQhfJtEHtf",
        "outputId": "265d46b9-4cfa-4b1b-b26b-2eea4dca36ae"
      },
      "execution_count": null,
      "outputs": [
        {
          "output_type": "execute_result",
          "data": {
            "text/plain": [
              "new_hosp    45.772543\n",
              "dtype: float64"
            ]
          },
          "metadata": {},
          "execution_count": 2646
        }
      ]
    },
    {
      "cell_type": "code",
      "source": [
        "X = data[['Time']]\n",
        "Y = data[['new_hosp']]\n",
        "\n",
        "x_train, x_test,y_train,y_test = train_test_split(X,Y,test_size =0.2)"
      ],
      "metadata": {
        "id": "TSAwKg2hHFUi"
      },
      "execution_count": null,
      "outputs": []
    },
    {
      "cell_type": "code",
      "source": [
        "reg = linear_model.LinearRegression()\n",
        "reg.fit(x_train,y_train)\n",
        "\n",
        "print('Intercept: \\n', reg.intercept_)\n",
        "print('Coefficients: \\n', reg.coef_)"
      ],
      "metadata": {
        "colab": {
          "base_uri": "https://localhost:8080/"
        },
        "id": "P4QNak-sHI1E",
        "outputId": "67126a3a-3568-42f9-dfb4-26137e8322d4"
      },
      "execution_count": null,
      "outputs": [
        {
          "output_type": "stream",
          "name": "stdout",
          "text": [
            "Intercept: \n",
            " [15.59129875]\n",
            "Coefficients: \n",
            " [[0.16440334]]\n"
          ]
        }
      ]
    },
    {
      "cell_type": "code",
      "source": [
        "prediction = reg.predict(x_test)\n",
        "residual2 = (y_test - prediction)"
      ],
      "metadata": {
        "id": "RTTllugnHJI3"
      },
      "execution_count": null,
      "outputs": []
    },
    {
      "cell_type": "code",
      "source": [
        "np.std(residual)"
      ],
      "metadata": {
        "colab": {
          "base_uri": "https://localhost:8080/"
        },
        "id": "FzWs68TsHNHo",
        "outputId": "3115cff9-558c-4b1a-bbd2-72d0e6d59bba"
      },
      "execution_count": null,
      "outputs": [
        {
          "output_type": "execute_result",
          "data": {
            "text/plain": [
              "new_hosp    45.772543\n",
              "dtype: float64"
            ]
          },
          "metadata": {},
          "execution_count": 2650
        }
      ]
    },
    {
      "cell_type": "markdown",
      "source": [
        "noises"
      ],
      "metadata": {
        "id": "6rUZAms-UCPz"
      }
    },
    {
      "cell_type": "code",
      "source": [
        "X = residual1\n",
        "Y = residual2"
      ],
      "metadata": {
        "id": "8IAg-dfLUEAF"
      },
      "execution_count": null,
      "outputs": []
    },
    {
      "cell_type": "code",
      "source": [
        "X = np.stack((X['Hospitalizations'].to_numpy(),Y['new_hosp'].to_numpy()),axis =0)"
      ],
      "metadata": {
        "id": "F2GGzrEMY4SD"
      },
      "execution_count": null,
      "outputs": []
    },
    {
      "cell_type": "code",
      "source": [
        "np.cov(X)"
      ],
      "metadata": {
        "colab": {
          "base_uri": "https://localhost:8080/"
        },
        "id": "OhqS4bl8T_s2",
        "outputId": "fd77637f-3d9b-4c24-c311-102e27cc4501"
      },
      "execution_count": null,
      "outputs": [
        {
          "output_type": "execute_result",
          "data": {
            "text/plain": [
              "array([[8.46003196e+06, 1.96156233e+03],\n",
              "       [1.96156233e+03, 2.43097959e+03]])"
            ]
          },
          "metadata": {},
          "execution_count": 2653
        }
      ]
    },
    {
      "cell_type": "markdown",
      "source": [
        "# Multiple Linear Regression"
      ],
      "metadata": {
        "id": "Fa2Z5QjflUQD"
      }
    },
    {
      "cell_type": "code",
      "source": [
        "X = data[['New Cases Reported','new_deaths','new_vac','Time']]\n",
        "Y = data[['new_hosp']]\n",
        "\n",
        "x_train, x_test,y_train,y_test = train_test_split(X,Y,test_size =0.2)"
      ],
      "metadata": {
        "id": "8S_nfOGAmF-E"
      },
      "execution_count": null,
      "outputs": []
    },
    {
      "cell_type": "code",
      "source": [
        "reg = linear_model.LinearRegression()\n",
        "reg.fit(x_train,y_train)\n",
        "\n",
        "print('Intercept: \\n', reg.intercept_)\n",
        "print('Coefficients: \\n', reg.coef_)"
      ],
      "metadata": {
        "colab": {
          "base_uri": "https://localhost:8080/"
        },
        "id": "GOX6O2a6vxZV",
        "outputId": "88707c5c-e0bf-4312-abb3-116b4eb065e3"
      },
      "execution_count": null,
      "outputs": [
        {
          "output_type": "stream",
          "name": "stdout",
          "text": [
            "Intercept: \n",
            " [3.02227115]\n",
            "Coefficients: \n",
            " [[ 8.95038241e-03  2.16530512e+00 -8.64689093e-05  6.68032978e-02]]\n"
          ]
        }
      ]
    },
    {
      "cell_type": "code",
      "source": [
        "reg.score(x_train,y_train)"
      ],
      "metadata": {
        "colab": {
          "base_uri": "https://localhost:8080/"
        },
        "id": "pmfqK0_5vUSn",
        "outputId": "fe247bf0-08b7-4a74-fa7e-54e972d0aff2"
      },
      "execution_count": null,
      "outputs": [
        {
          "output_type": "execute_result",
          "data": {
            "text/plain": [
              "0.8001807017585729"
            ]
          },
          "metadata": {},
          "execution_count": 225
        }
      ]
    },
    {
      "cell_type": "code",
      "source": [
        "reg.score(x_test,y_test)"
      ],
      "metadata": {
        "colab": {
          "base_uri": "https://localhost:8080/"
        },
        "id": "OkQGNRPCwACd",
        "outputId": "9d5d47e7-10b6-41ec-d4a5-eae79ab05fed"
      },
      "execution_count": null,
      "outputs": [
        {
          "output_type": "execute_result",
          "data": {
            "text/plain": [
              "0.8654683528024966"
            ]
          },
          "metadata": {},
          "execution_count": 226
        }
      ]
    },
    {
      "cell_type": "code",
      "source": [
        "y_predicted = reg.predict(x_test)\n",
        "resid = y_test - y_predicted"
      ],
      "metadata": {
        "id": "aPbHpuWH8Kw-"
      },
      "execution_count": null,
      "outputs": []
    },
    {
      "cell_type": "code",
      "source": [
        "plt.figure(figsize=(6,6))\n",
        "plt.scatter(x_test['Time'], resid, color='black', s= 4)\n",
        "plt.axhline(y=0, color='r', linestyle='-')\n",
        "plt.title('Residual Plot', fontsize=14)\n",
        "plt.xlabel('Days Since Start', fontsize=14)\n",
        "plt.ylabel('Residuals', fontsize=14)\n",
        "plt.grid(True)\n",
        "plt.show()"
      ],
      "metadata": {
        "colab": {
          "base_uri": "https://localhost:8080/"
        },
        "id": "ou9FRXJg6JZH",
        "outputId": "3bb4d8c9-4679-4e67-da0a-351d7aff55b4"
      },
      "execution_count": null,
      "outputs": [
        {
          "output_type": "display_data",
          "data": {
            "image/png": "[encoded data removed]",
            "text/plain": [
              "<Figure size 432x432 with 1 Axes>"
            ]
          },
          "metadata": {}
        }
      ]
    },
    {
      "cell_type": "code",
      "source": [
        "plt.figure(figsize=(6,6))\n",
        "plt.scatter(x_test['Time'], reg.predict(x_test), color='blue', s= 4)\n",
        "plt.scatter(x_test['Time'], y_test['new_hosp'], color = 'red', s =4)\n",
        "plt.legend(['Predicted','Actual'])\n",
        "plt.title('Daily Hospitalizations', fontsize=14)\n",
        "plt.xlabel('Days Since Start', fontsize=14)\n",
        "plt.ylabel('# of Hospitalizations', fontsize=14)\n",
        "plt.grid(True)\n",
        "plt.show()"
      ],
      "metadata": {
        "colab": {
          "base_uri": "https://localhost:8080/"
        },
        "id": "lBOM1Z9Z4UIh",
        "outputId": "47935cf6-f031-4bfc-88b0-dc5b6736073f"
      },
      "execution_count": null,
      "outputs": [
        {
          "output_type": "display_data",
          "data": {
            "image/png": "[encoded data removed]",
            "text/plain": [
              "<Figure size 432x432 with 1 Axes>"
            ]
          },
          "metadata": {}
        }
      ]
    },
    {
      "cell_type": "markdown",
      "source": [
        "# Kalman Filter"
      ],
      "metadata": {
        "id": "zsZmyF5UFvaX"
      }
    },
    {
      "cell_type": "code",
      "source": [
        "!pip install pykalman -q"
      ],
      "metadata": {
        "id": "lXJMmfPmF2MF"
      },
      "execution_count": null,
      "outputs": []
    },
    {
      "cell_type": "code",
      "source": [
        "from pykalman import KalmanFilter"
      ],
      "metadata": {
        "id": "R_cZEgbtF3Qg"
      },
      "execution_count": null,
      "outputs": []
    },
    {
      "cell_type": "markdown",
      "source": [
        "#### Time"
      ],
      "metadata": {
        "id": "KAZ8fentGrr3"
      }
    },
    {
      "cell_type": "code",
      "source": [
        "#Time step\n",
        "dt = 1\n",
        "\n",
        "#Number of time steps\n",
        "n_timesteps = len(data['Time'])\n",
        "\n",
        "#Time\n",
        "t = np.arange(n_timesteps)*dt"
      ],
      "metadata": {
        "id": "NTTJ9_58GvNP"
      },
      "execution_count": null,
      "outputs": []
    },
    {
      "cell_type": "markdown",
      "source": [
        "#### Matrices"
      ],
      "metadata": {
        "id": "0lsOfv-8G-KG"
      }
    },
    {
      "cell_type": "markdown",
      "source": [
        "Define the matrices $A$, $B$, and $C$."
      ],
      "metadata": {
        "id": "uP4WWcR-itKR"
      }
    },
    {
      "cell_type": "code",
      "source": [
        "A = np.array([[1, dt],\n",
        "             [0, 1]])\n",
        "\n",
        "B = np.array([[0],[0]])\n",
        "\n",
        "C = np.array([[1, 0]])\n",
        "\n",
        "#Use these matrices to determine the dimensions of the state and observation vectors\n",
        "n_dim_state = A.shape[0]\n",
        "\n",
        "n_dim_obs = C.shape[0]"
      ],
      "metadata": {
        "id": "TfPIKWSvHAXM"
      },
      "execution_count": null,
      "outputs": []
    },
    {
      "cell_type": "markdown",
      "source": [
        "#### Control Signal"
      ],
      "metadata": {
        "id": "9CngAiR_Hhrk"
      }
    },
    {
      "cell_type": "markdown",
      "source": [
        "We will not use a control signal in this application"
      ],
      "metadata": {
        "id": "9uzfLaEiHlQd"
      }
    },
    {
      "cell_type": "markdown",
      "source": [
        "Get an array of zeros with proper length"
      ],
      "metadata": {
        "id": "Iwt4cZZcIZZt"
      }
    },
    {
      "cell_type": "code",
      "source": [
        "u = np.ones((1,n_timesteps))"
      ],
      "metadata": {
        "id": "x6Lb13roITkX"
      },
      "execution_count": null,
      "outputs": []
    },
    {
      "cell_type": "code",
      "source": [
        "b = np.matmul(B,u)"
      ],
      "metadata": {
        "id": "gjcFjCtsIT9_"
      },
      "execution_count": null,
      "outputs": []
    },
    {
      "cell_type": "code",
      "source": [
        "b"
      ],
      "metadata": {
        "colab": {
          "base_uri": "https://localhost:8080/"
        },
        "id": "swo0e8P-IXMW",
        "outputId": "21bc9f8b-1daf-4ad8-9426-e2c59712daa6"
      },
      "execution_count": null,
      "outputs": [
        {
          "output_type": "execute_result",
          "data": {
            "text/plain": [
              "array([[0., 0., 0., ..., 0., 0., 0.],\n",
              "       [0., 0., 0., ..., 0., 0., 0.]])"
            ]
          },
          "metadata": {},
          "execution_count": 2088
        }
      ]
    },
    {
      "cell_type": "markdown",
      "source": [
        "#### Noise distributions"
      ],
      "metadata": {
        "id": "nFa7SVeLvQC3"
      }
    },
    {
      "cell_type": "markdown",
      "source": [
        "Specify the parameters for the noise disturbance of the state. Assume a multivariate Gaussian distribution with zero mean."
      ],
      "metadata": {
        "id": "tbRitTDqvR2b"
      }
    },
    {
      "cell_type": "code",
      "source": [
        "#Vector of mean values \n",
        "state_mean_vec = [0.0, 0.0]\n",
        "\n",
        "#Covariance matrix\n",
        "state_cov_matrix = [[1000,0.0],[0.0,45]]\n",
        "\n",
        "#Create the random variable \n",
        "state_noise = stats.multivariate_normal(state_mean_vec, state_cov_matrix)"
      ],
      "metadata": {
        "id": "dkBeFs9cHbiS"
      },
      "execution_count": null,
      "outputs": []
    },
    {
      "cell_type": "markdown",
      "source": [
        "Specify the parameters for the noise disturbance of the observation. Assume a Gaussian distribution with zero mean."
      ],
      "metadata": {
        "id": "6rKfGWonvbbO"
      }
    },
    {
      "cell_type": "code",
      "source": [
        "#mean value\n",
        "obs_mean = 0.0\n",
        "\n",
        "#standard deviation\n",
        "obs_std = 2810\n",
        "\n",
        "#Create the random variable \n",
        "obs_noise = stats.norm(loc = obs_mean, scale = obs_std)"
      ],
      "metadata": {
        "id": "YFbeMetZRkwb"
      },
      "execution_count": null,
      "outputs": []
    },
    {
      "cell_type": "markdown",
      "source": [
        "#### Use the dynamics to simulate the system"
      ],
      "metadata": {
        "id": "Te2l3O5gviuA"
      }
    },
    {
      "cell_type": "markdown",
      "source": [
        "Initialize the state vector and select an initial state."
      ],
      "metadata": {
        "id": "4hjbJg0dv1GL"
      }
    },
    {
      "cell_type": "code",
      "source": [
        "x = np.zeros((n_dim_state, n_timesteps))\n",
        "\n",
        "x[:,0] = [1000.0, 60.0]\n",
        "#stats.multivariate_normal.rvs([0.0, 0.0], np.identity(2))"
      ],
      "metadata": {
        "id": "u07cDnX0KDDt"
      },
      "execution_count": null,
      "outputs": []
    },
    {
      "cell_type": "code",
      "source": [
        "x"
      ],
      "metadata": {
        "colab": {
          "base_uri": "https://localhost:8080/"
        },
        "id": "OcVcQPbMtc-E",
        "outputId": "ad150722-67e3-48de-90fa-c201bc3b4a56"
      },
      "execution_count": null,
      "outputs": [
        {
          "output_type": "execute_result",
          "data": {
            "text/plain": [
              "array([[1000.,    0.,    0., ...,    0.,    0.,    0.],\n",
              "       [  60.,    0.,    0., ...,    0.,    0.,    0.]])"
            ]
          },
          "metadata": {},
          "execution_count": 2631
        }
      ]
    },
    {
      "cell_type": "markdown",
      "source": [
        "Run the state dynamics"
      ],
      "metadata": {
        "id": "4Bu2S9o4v-5Z"
      }
    },
    {
      "cell_type": "code",
      "source": [
        "for n in range(n_timesteps - 1):\n",
        "  x[:,n+1] = np.matmul(A,x[:,n]) + b[:,n] + state_noise.rvs()"
      ],
      "metadata": {
        "id": "38vM0-IDKEHh"
      },
      "execution_count": null,
      "outputs": []
    },
    {
      "cell_type": "code",
      "source": [
        "x"
      ],
      "metadata": {
        "colab": {
          "base_uri": "https://localhost:8080/"
        },
        "id": "zWIFcpEOO_5S",
        "outputId": "91004a82-280d-4022-9085-a8cc820b6eee"
      },
      "execution_count": null,
      "outputs": [
        {
          "output_type": "execute_result",
          "data": {
            "text/plain": [
              "array([[ 1000.        ,  1029.25021974,  1033.51874113, ...,\n",
              "        25747.04794865, 25765.60299951, 25818.5361766 ],\n",
              "       [   60.        ,    63.42981738,    58.09639017, ...,\n",
              "           50.17979732,    50.98195642,    43.54065375]])"
            ]
          },
          "metadata": {},
          "execution_count": 2633
        }
      ]
    },
    {
      "cell_type": "markdown",
      "source": [
        "Create the observations"
      ],
      "metadata": {
        "id": "DTXTVY483zwv"
      }
    },
    {
      "cell_type": "code",
      "source": [
        "y = data['Hospitalizations']"
      ],
      "metadata": {
        "id": "TfBBhwrDDTGe"
      },
      "execution_count": null,
      "outputs": []
    },
    {
      "cell_type": "markdown",
      "source": [
        "#### Use the Kalman filter to estimate the states"
      ],
      "metadata": {
        "id": "sOjoFpaOy45K"
      }
    },
    {
      "cell_type": "markdown",
      "source": [
        "Define a Kalman filter object with the known properties of the system"
      ],
      "metadata": {
        "id": "64iNXnl6y77a"
      }
    },
    {
      "cell_type": "code",
      "source": [
        "kf = KalmanFilter(transition_matrices = A, observation_matrices = C, transition_covariance=state_cov_matrix, observation_covariance=obs_std**2, transition_offsets=b.T)"
      ],
      "metadata": {
        "id": "7TsrRQplTeM3"
      },
      "execution_count": null,
      "outputs": []
    },
    {
      "cell_type": "markdown",
      "source": [
        "Perform Kalman filter estimation"
      ],
      "metadata": {
        "id": "bqsh2-nOzAk3"
      }
    },
    {
      "cell_type": "code",
      "source": [
        "(filtered_state_means, filtered_state_covariances) = kf.filter(y)"
      ],
      "metadata": {
        "id": "_3abbVVCVhPi"
      },
      "execution_count": null,
      "outputs": []
    },
    {
      "cell_type": "markdown",
      "source": [
        "Plot the true states and the estimated values from the Kalman filter."
      ],
      "metadata": {
        "id": "JMzmESZok5yt"
      }
    },
    {
      "cell_type": "code",
      "source": [
        "#Plot position\n",
        "plt.figure(figsize = (20,15))\n",
        "plt.plot(t,x[0,:])\n",
        "plt.plot(t,y)\n",
        "plt.plot(t,filtered_state_means[:,0], 'g--')\n",
        "\n",
        "plt.xlabel('time')\n",
        "plt.ylabel('Hospitalizations')\n",
        "plt.legend(['True Hospitalizations x', 'Observation y', 'Kalman filter estimate'])\n"
      ],
      "metadata": {
        "colab": {
          "base_uri": "https://localhost:8080/",
          "height": 894
        },
        "id": "wTxlXdivWv5J",
        "outputId": "96b1d0e5-b254-4099-bc96-3eb2c375109b"
      },
      "execution_count": null,
      "outputs": [
        {
          "output_type": "execute_result",
          "data": {
            "text/plain": [
              "<matplotlib.legend.Legend at 0x7f13b8719ed0>"
            ]
          },
          "metadata": {},
          "execution_count": 2637
        },
        {
          "output_type": "display_data",
          "data": {
            "image/png": "[encoded data removed]",
            "text/plain": [
              "<Figure size 1440x1080 with 1 Axes>"
            ]
          },
          "metadata": {}
        }
      ]
    },
    {
      "cell_type": "markdown",
      "source": [
        "#### Learning model parameters"
      ],
      "metadata": {
        "id": "IFFFQStvzY6X"
      }
    },
    {
      "cell_type": "markdown",
      "source": [
        "Suppose that we only have guesses for the noise covariances."
      ],
      "metadata": {
        "id": "f9JYdxowhUaf"
      }
    },
    {
      "cell_type": "code",
      "source": [
        "state_cov_matrix_guess = [[2800,0.0],[0.0,45]]\n",
        "\n",
        "obs_std_guess = 2810."
      ],
      "metadata": {
        "id": "mBK5FzvVhUaf"
      },
      "execution_count": null,
      "outputs": []
    },
    {
      "cell_type": "markdown",
      "source": [
        "We can define a `KalmanFilter` object with the guessed values and indicate that we want to use the EM algorithm to learn those parameters using `em_vars=['transition_covariance', 'observation_covariance']`"
      ],
      "metadata": {
        "id": "CBcKoOe5lFFo"
      }
    },
    {
      "cell_type": "code",
      "source": [
        "kf_learn = KalmanFilter(transition_matrices = A, observation_matrices = C, transition_covariance=state_cov_matrix_guess, observation_covariance=obs_std_guess**2, transition_offsets=b.T, em_vars=['transition_covariance', 'observation_covariance'])"
      ],
      "metadata": {
        "id": "rFZgh9R-hfJV"
      },
      "execution_count": null,
      "outputs": []
    },
    {
      "cell_type": "markdown",
      "source": [
        "Applying the method `.em` uses the EM algorithm to estimate those parameters based on the observed data."
      ],
      "metadata": {
        "id": "kUfCGVGmlYaO"
      }
    },
    {
      "cell_type": "code",
      "source": [
        "kf_learn = kf_learn.em(y, n_iter = 10)"
      ],
      "metadata": {
        "id": "tE4yg4srUsGD"
      },
      "execution_count": null,
      "outputs": []
    },
    {
      "cell_type": "markdown",
      "source": [
        "Compare the learned values to the true values. This is a difficult optimization problem, so the estimates will not be perfect."
      ],
      "metadata": {
        "id": "HSRCJCGyljCw"
      }
    },
    {
      "cell_type": "code",
      "source": [
        "print('EM estimate of state covariance = ', kf_learn.transition_covariance, '. True covariance = ', state_cov_matrix)"
      ],
      "metadata": {
        "colab": {
          "base_uri": "https://localhost:8080/"
        },
        "id": "ISFSrqsKU1Dh",
        "outputId": "a3533750-4c6c-4ae4-b2b5-264bbfe1d69b"
      },
      "execution_count": null,
      "outputs": [
        {
          "output_type": "stream",
          "name": "stdout",
          "text": [
            "EM estimate of state covariance =  [[2252.05851764  102.60248999]\n",
            " [ 102.60248999   53.11561708]] . True covariance =  [[2252.05851764  102.60248999]\n",
            " [ 102.60248999   53.11561708]]\n"
          ]
        }
      ]
    },
    {
      "cell_type": "code",
      "source": [
        "print('EM estimate of observation variance = ', kf_learn.observation_covariance, '. True variance = ', obs_std**2)"
      ],
      "metadata": {
        "colab": {
          "base_uri": "https://localhost:8080/"
        },
        "id": "JM0jII_ZiuWd",
        "outputId": "dac4c579-3897-4eb0-fa65-93959cda4d93"
      },
      "execution_count": null,
      "outputs": [
        {
          "output_type": "stream",
          "name": "stdout",
          "text": [
            "EM estimate of observation variance =  [[3535.14422096]] . True variance =  [[3535.14422096]]\n"
          ]
        }
      ]
    },
    {
      "cell_type": "markdown",
      "source": [
        "#### Use Estimated values to Update Kalman Filter"
      ],
      "metadata": {
        "id": "EE6de7QTJG8I"
      }
    },
    {
      "cell_type": "markdown",
      "source": [
        "Specify the parameters for the noise disturbance of the state. Assume a multivariate Gaussian distribution with zero mean."
      ],
      "metadata": {
        "id": "SF53g91uRUr7"
      }
    },
    {
      "cell_type": "code",
      "source": [
        "#Vector of mean values \n",
        "state_mean_vec = [0.0, 0.0]\n",
        "\n",
        "#Covariance matrix\n",
        "state_cov_matrix = kf_learn.transition_covariance\n",
        "\n",
        "#Create the random variable \n",
        "state_noise = stats.multivariate_normal(state_mean_vec, state_cov_matrix)"
      ],
      "metadata": {
        "id": "4OLqFZuURUsU"
      },
      "execution_count": null,
      "outputs": []
    },
    {
      "cell_type": "markdown",
      "source": [
        "Specify the parameters for the noise disturbance of the observation. Assume a Gaussian distribution with zero mean."
      ],
      "metadata": {
        "id": "1QNf-m7XRUsV"
      }
    },
    {
      "cell_type": "code",
      "source": [
        "#mean value\n",
        "obs_mean = 0.0\n",
        "\n",
        "#standard deviation\n",
        "obs_std = np.sqrt(kf_learn.observation_covariance)\n",
        "\n",
        "#Create the random variable \n",
        "obs_noise = stats.norm(loc = obs_mean, scale = obs_std)"
      ],
      "metadata": {
        "id": "MAR9DH0URUsV"
      },
      "execution_count": null,
      "outputs": []
    },
    {
      "cell_type": "markdown",
      "source": [
        "#### Use the dynamics to simulate the system"
      ],
      "metadata": {
        "id": "UNDTLWSiRUsW"
      }
    },
    {
      "cell_type": "markdown",
      "source": [
        "Initialize the state vector and select a random initial state."
      ],
      "metadata": {
        "id": "EWjzmcB3RUsX"
      }
    },
    {
      "cell_type": "code",
      "source": [
        "x = np.zeros((n_dim_state, n_timesteps))\n",
        "\n",
        "x[:,0] = x[:,0] = [1000.0, 60.0]"
      ],
      "metadata": {
        "id": "2e65rF_7RUsX"
      },
      "execution_count": null,
      "outputs": []
    },
    {
      "cell_type": "markdown",
      "source": [
        "Run the state dynamics"
      ],
      "metadata": {
        "id": "QZcL4bgTRUsY"
      }
    },
    {
      "cell_type": "code",
      "source": [
        "for n in range(n_timesteps - 1):\n",
        "  x[:,n+1] = np.matmul(A,x[:,n]) + b[:,n] + state_noise.rvs()"
      ],
      "metadata": {
        "id": "akrdiyARRUsY"
      },
      "execution_count": null,
      "outputs": []
    },
    {
      "cell_type": "markdown",
      "source": [
        "Define a Kalman filter object with the known properties of the system"
      ],
      "metadata": {
        "id": "cNeA19YzRUsb"
      }
    },
    {
      "cell_type": "code",
      "source": [
        "kf = KalmanFilter(transition_matrices = A, observation_matrices = C, transition_covariance=state_cov_matrix, observation_covariance=obs_std**2, transition_offsets=b.T)"
      ],
      "metadata": {
        "id": "_b76Do2MRUsc"
      },
      "execution_count": null,
      "outputs": []
    },
    {
      "cell_type": "markdown",
      "source": [
        "Perform Kalman filter estimation"
      ],
      "metadata": {
        "id": "7z46lxSHRUsd"
      }
    },
    {
      "cell_type": "code",
      "source": [
        "(filtered_state_means, filtered_state_covariances) = kf.filter(y)"
      ],
      "metadata": {
        "id": "Lw06Fy4xRUsd"
      },
      "execution_count": null,
      "outputs": []
    },
    {
      "cell_type": "markdown",
      "source": [
        "Plot the true states and the estimated values from the Kalman filter."
      ],
      "metadata": {
        "id": "am44_jmzRUse"
      }
    },
    {
      "cell_type": "code",
      "source": [
        "#Plot position\n",
        "plt.figure(figsize = (20,15))\n",
        "plt.plot(t,x[0,:])\n",
        "plt.plot(t,y)\n",
        "plt.plot(t,filtered_state_means[:,0], 'g--')\n",
        "\n",
        "plt.xlabel('time')\n",
        "plt.ylabel('Hospitalizations')\n",
        "plt.legend(['True Hospitalizations x', 'Observation y', 'Kalman filter estimate'])\n"
      ],
      "metadata": {
        "colab": {
          "base_uri": "https://localhost:8080/",
          "height": 894
        },
        "outputId": "c18ce80d-fdfc-4fea-ac39-f1312958b63b",
        "id": "b14ku9BBRUse"
      },
      "execution_count": null,
      "outputs": [
        {
          "output_type": "execute_result",
          "data": {
            "text/plain": [
              "<matplotlib.legend.Legend at 0x7f13b8cda110>"
            ]
          },
          "metadata": {},
          "execution_count": 2350
        },
        {
          "output_type": "display_data",
          "data": {
            "image/png": "[encoded data removed]",
            "text/plain": [
              "<Figure size 1440x1080 with 1 Axes>"
            ]
          },
          "metadata": {}
        }
      ]
    }
  ]
}